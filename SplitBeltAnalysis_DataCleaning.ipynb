{
 "cells": [
  {
   "cell_type": "markdown",
   "metadata": {},
   "source": [
    "# Split-Belt Data Set \n",
    "\n",
    "## Cleaning and Validation\n",
    "\n",
    "This notebook is dedicated to **Cleaning** and **Validating** the the split-belt dataset.\n",
    "\n",
    "**Methods**\n",
    "- Remove data that is missing essential parameters\n",
    "- Removing data that has been misentered\n",
    "    - Ages less than 18\n",
    "    - Speed Ratios that are not integers (i.e., 2 or 3)\n",
    "- Correct Units\n",
    "    - Specifically height and weight were converted to cm and kg, respectively\n",
    "- Generate new parameters\n",
    "    - Descritize targets that we wish to classify\n",
    "    - BMI\n",
    "    - Categorical Young variable\n",
    "- Finaly, updated data is saved"
   ]
  },
  {
   "cell_type": "markdown",
   "metadata": {},
   "source": [
    "Import Data\n",
    "---"
   ]
  },
  {
   "cell_type": "code",
   "execution_count": 1,
   "metadata": {},
   "outputs": [
    {
     "data": {
      "text/html": [
       "<div>\n",
       "<style scoped>\n",
       "    .dataframe tbody tr th:only-of-type {\n",
       "        vertical-align: middle;\n",
       "    }\n",
       "\n",
       "    .dataframe tbody tr th {\n",
       "        vertical-align: top;\n",
       "    }\n",
       "\n",
       "    .dataframe thead th {\n",
       "        text-align: right;\n",
       "    }\n",
       "</style>\n",
       "<table border=\"1\" class=\"dataframe\">\n",
       "  <thead>\n",
       "    <tr style=\"text-align: right;\">\n",
       "      <th></th>\n",
       "      <th>Publication</th>\n",
       "      <th>GroupNum</th>\n",
       "      <th>Height</th>\n",
       "      <th>Weight</th>\n",
       "      <th>Age</th>\n",
       "      <th>Male</th>\n",
       "      <th>RightLeg_Dom</th>\n",
       "      <th>RightLeg_Fast</th>\n",
       "      <th>AdaptationDuration</th>\n",
       "      <th>Abrupt</th>\n",
       "      <th>...</th>\n",
       "      <th>Stroke</th>\n",
       "      <th>TextSpeedRatio</th>\n",
       "      <th>BaseSTD</th>\n",
       "      <th>Naive</th>\n",
       "      <th>TMAEFirst</th>\n",
       "      <th>EntityID</th>\n",
       "      <th>EventDetection</th>\n",
       "      <th>AdaptationDurationMins</th>\n",
       "      <th>TMBaseMid</th>\n",
       "      <th>Clinical</th>\n",
       "    </tr>\n",
       "  </thead>\n",
       "  <tbody>\n",
       "    <tr>\n",
       "      <th>0</th>\n",
       "      <td>NaN</td>\n",
       "      <td>1</td>\n",
       "      <td>160.0</td>\n",
       "      <td>60.9</td>\n",
       "      <td>20.0</td>\n",
       "      <td>0.0</td>\n",
       "      <td>1.0</td>\n",
       "      <td>1.0</td>\n",
       "      <td>604.0</td>\n",
       "      <td>1.0</td>\n",
       "      <td>...</td>\n",
       "      <td>0.0</td>\n",
       "      <td>2.0</td>\n",
       "      <td>0.016029</td>\n",
       "      <td>1.0</td>\n",
       "      <td>1.0</td>\n",
       "      <td>517.0</td>\n",
       "      <td>NaN</td>\n",
       "      <td>NaN</td>\n",
       "      <td>1.0</td>\n",
       "      <td>0.0</td>\n",
       "    </tr>\n",
       "    <tr>\n",
       "      <th>1</th>\n",
       "      <td>NaN</td>\n",
       "      <td>1</td>\n",
       "      <td>183.5</td>\n",
       "      <td>70.5</td>\n",
       "      <td>22.0</td>\n",
       "      <td>1.0</td>\n",
       "      <td>1.0</td>\n",
       "      <td>1.0</td>\n",
       "      <td>602.0</td>\n",
       "      <td>1.0</td>\n",
       "      <td>...</td>\n",
       "      <td>0.0</td>\n",
       "      <td>2.0</td>\n",
       "      <td>0.023901</td>\n",
       "      <td>1.0</td>\n",
       "      <td>1.0</td>\n",
       "      <td>518.0</td>\n",
       "      <td>NaN</td>\n",
       "      <td>NaN</td>\n",
       "      <td>1.0</td>\n",
       "      <td>0.0</td>\n",
       "    </tr>\n",
       "    <tr>\n",
       "      <th>2</th>\n",
       "      <td>NaN</td>\n",
       "      <td>1</td>\n",
       "      <td>174.0</td>\n",
       "      <td>68.0</td>\n",
       "      <td>20.0</td>\n",
       "      <td>0.0</td>\n",
       "      <td>1.0</td>\n",
       "      <td>1.0</td>\n",
       "      <td>602.0</td>\n",
       "      <td>1.0</td>\n",
       "      <td>...</td>\n",
       "      <td>0.0</td>\n",
       "      <td>2.0</td>\n",
       "      <td>0.020686</td>\n",
       "      <td>1.0</td>\n",
       "      <td>1.0</td>\n",
       "      <td>515.0</td>\n",
       "      <td>NaN</td>\n",
       "      <td>NaN</td>\n",
       "      <td>1.0</td>\n",
       "      <td>0.0</td>\n",
       "    </tr>\n",
       "    <tr>\n",
       "      <th>3</th>\n",
       "      <td>NaN</td>\n",
       "      <td>1</td>\n",
       "      <td>159.0</td>\n",
       "      <td>59.2</td>\n",
       "      <td>20.0</td>\n",
       "      <td>1.0</td>\n",
       "      <td>1.0</td>\n",
       "      <td>1.0</td>\n",
       "      <td>603.0</td>\n",
       "      <td>1.0</td>\n",
       "      <td>...</td>\n",
       "      <td>0.0</td>\n",
       "      <td>2.0</td>\n",
       "      <td>0.017556</td>\n",
       "      <td>1.0</td>\n",
       "      <td>1.0</td>\n",
       "      <td>519.0</td>\n",
       "      <td>NaN</td>\n",
       "      <td>NaN</td>\n",
       "      <td>1.0</td>\n",
       "      <td>0.0</td>\n",
       "    </tr>\n",
       "    <tr>\n",
       "      <th>4</th>\n",
       "      <td>NaN</td>\n",
       "      <td>1</td>\n",
       "      <td>160.0</td>\n",
       "      <td>60.9</td>\n",
       "      <td>20.0</td>\n",
       "      <td>0.0</td>\n",
       "      <td>1.0</td>\n",
       "      <td>1.0</td>\n",
       "      <td>601.0</td>\n",
       "      <td>1.0</td>\n",
       "      <td>...</td>\n",
       "      <td>0.0</td>\n",
       "      <td>2.0</td>\n",
       "      <td>0.013288</td>\n",
       "      <td>0.0</td>\n",
       "      <td>1.0</td>\n",
       "      <td>517.0</td>\n",
       "      <td>NaN</td>\n",
       "      <td>NaN</td>\n",
       "      <td>1.0</td>\n",
       "      <td>0.0</td>\n",
       "    </tr>\n",
       "  </tbody>\n",
       "</table>\n",
       "<p>5 rows × 35 columns</p>\n",
       "</div>"
      ],
      "text/plain": [
       "  Publication GroupNum  Height  Weight   Age  Male  RightLeg_Dom  \\\n",
       "0         NaN        1   160.0    60.9  20.0   0.0           1.0   \n",
       "1         NaN        1   183.5    70.5  22.0   1.0           1.0   \n",
       "2         NaN        1   174.0    68.0  20.0   0.0           1.0   \n",
       "3         NaN        1   159.0    59.2  20.0   1.0           1.0   \n",
       "4         NaN        1   160.0    60.9  20.0   0.0           1.0   \n",
       "\n",
       "   RightLeg_Fast  AdaptationDuration  Abrupt  ...  Stroke  TextSpeedRatio  \\\n",
       "0            1.0               604.0     1.0  ...     0.0             2.0   \n",
       "1            1.0               602.0     1.0  ...     0.0             2.0   \n",
       "2            1.0               602.0     1.0  ...     0.0             2.0   \n",
       "3            1.0               603.0     1.0  ...     0.0             2.0   \n",
       "4            1.0               601.0     1.0  ...     0.0             2.0   \n",
       "\n",
       "    BaseSTD  Naive  TMAEFirst  EntityID  EventDetection  \\\n",
       "0  0.016029    1.0        1.0     517.0             NaN   \n",
       "1  0.023901    1.0        1.0     518.0             NaN   \n",
       "2  0.020686    1.0        1.0     515.0             NaN   \n",
       "3  0.017556    1.0        1.0     519.0             NaN   \n",
       "4  0.013288    0.0        1.0     517.0             NaN   \n",
       "\n",
       "   AdaptationDurationMins  TMBaseMid  Clinical  \n",
       "0                     NaN        1.0       0.0  \n",
       "1                     NaN        1.0       0.0  \n",
       "2                     NaN        1.0       0.0  \n",
       "3                     NaN        1.0       0.0  \n",
       "4                     NaN        1.0       0.0  \n",
       "\n",
       "[5 rows x 35 columns]"
      ]
     },
     "execution_count": 1,
     "metadata": {},
     "output_type": "execute_result"
    }
   ],
   "source": [
    "import pandas as pd\n",
    "\n",
    "df = pd.read_csv(\"DataBase_Draft_12_28_2020_First.csv\", engine='python')\n",
    "df = df.drop(columns=['Lab', 'Institution', 'ID'])\n",
    "df.head()"
   ]
  },
  {
   "cell_type": "code",
   "execution_count": 2,
   "metadata": {},
   "outputs": [],
   "source": [
    "# set random seed to increase repeatability\n",
    "import numpy as np\n",
    "RSEED=50\n",
    "np.random.seed(RSEED)"
   ]
  },
  {
   "cell_type": "markdown",
   "metadata": {},
   "source": [
    "Plotting Functions\n",
    "---"
   ]
  },
  {
   "cell_type": "code",
   "execution_count": 3,
   "metadata": {},
   "outputs": [],
   "source": [
    "import matplotlib.pyplot as plt  # To visualize\n",
    "import seaborn as sns # Also to visualize\n",
    "import math #rounding up"
   ]
  },
  {
   "cell_type": "code",
   "execution_count": 4,
   "metadata": {},
   "outputs": [],
   "source": [
    "def InitialVisualization(Inputs, DataFrame):\n",
    "    nrows=math.ceil(len(Inputs)/5)\n",
    "    plt.figure(figsize=(10, 2*nrows))\n",
    "    for i in range(len(Inputs)):\n",
    "        plt.subplot(nrows, 5, i+1)\n",
    "        if len(DataFrame[Inputs[i]].unique())<=5:\n",
    "            sns.countplot(x=Inputs[i], data=DataFrame)\n",
    "        else:\n",
    "            hist = DataFrame.boxplot(column=Inputs[i])\n",
    "    plt.tight_layout()\n",
    "    plt.show()"
   ]
  },
  {
   "cell_type": "markdown",
   "metadata": {},
   "source": [
    "# Data For Exclusion\n",
    "\n",
    "I am going to create a copy of the data (df) in order to impliment the clearning. The 'cleaned' data is what I suggest for future analysis."
   ]
  },
  {
   "cell_type": "code",
   "execution_count": 5,
   "metadata": {},
   "outputs": [],
   "source": [
    "# Make a COPY of my data for cleaning\n",
    "dfClean=df.copy()"
   ]
  },
  {
   "cell_type": "markdown",
   "metadata": {},
   "source": [
    "I am only including split-belt sessions that include an assessment of baseline walking and an assessment of split-belt After-Effects on the treadmill (i.e., locomotor recalibration).\n",
    "\n",
    "While other metrics have missing data, this data will be filled rather than excluded."
   ]
  },
  {
   "cell_type": "code",
   "execution_count": 6,
   "metadata": {},
   "outputs": [
    {
     "data": {
      "text/plain": [
       "(704, 35)"
      ]
     },
     "execution_count": 6,
     "metadata": {},
     "output_type": "execute_result"
    }
   ],
   "source": [
    "badIndex = ( (np.isnan(df.TMBase)==True) | (np.isnan(df.TMBase)==True) )\n",
    "dfClean = dfClean.drop(dfClean[badIndex].index)\n",
    "dfClean.shape"
   ]
  },
  {
   "cell_type": "markdown",
   "metadata": {},
   "source": [
    "# Kinematic Validation"
   ]
  },
  {
   "cell_type": "code",
   "execution_count": 7,
   "metadata": {},
   "outputs": [
    {
     "data": {
      "image/png": "[encoded data removed]",
      "text/plain": [
       "<Figure size 720x144 with 3 Axes>"
      ]
     },
     "metadata": {
      "needs_background": "light"
     },
     "output_type": "display_data"
    }
   ],
   "source": [
    "InitialVisualization([\"TMBase\", \"BaseSTD\", \"TMAfter\"], dfClean)"
   ]
  },
  {
   "cell_type": "code",
   "execution_count": 8,
   "metadata": {},
   "outputs": [
    {
     "name": "stderr",
     "output_type": "stream",
     "text": [
      "/Users/carlysombric/anaconda3/lib/python3.6/site-packages/numpy/lib/histograms.py:839: RuntimeWarning: invalid value encountered in greater_equal\n",
      "  keep = (tmp_a >= first_edge)\n",
      "/Users/carlysombric/anaconda3/lib/python3.6/site-packages/numpy/lib/histograms.py:840: RuntimeWarning: invalid value encountered in less_equal\n",
      "  keep &= (tmp_a <= last_edge)\n",
      "/Users/carlysombric/anaconda3/lib/python3.6/site-packages/ipykernel_launcher.py:30: UserWarning: Matplotlib is currently using module://ipykernel.pylab.backend_inline, which is a non-GUI backend, so cannot show the figure.\n"
     ]
    },
    {
     "data": {
      "image/png": "[encoded data removed]",
      "text/plain": [
       "<Figure size 864x360 with 8 Axes>"
      ]
     },
     "metadata": {
      "needs_background": "light"
     },
     "output_type": "display_data"
    }
   ],
   "source": [
    "#plt.figure(figsize=(10, 12), sharey=True)\n",
    "fig, axs = plt.subplots(2, 4, sharey=True, sharex=True, tight_layout=True, figsize=(12,5))\n",
    "\n",
    "axs[0, 0].hist(dfClean.TMBase, orientation='horizontal', bins=30, color='darkorange')\n",
    "axs[0, 0].set_ylabel('Treadmill', FontSize=16, color='darkorange')\n",
    "axs[0, 0].set_title('Baseline', FontSize=14)\n",
    "axs[0, 0].plot([0, 390], [0, 0], 'k-', lw=3,dashes=[2, 2])\n",
    "\n",
    "axs[0, 1].hist(dfClean.EarlyA, orientation='horizontal', bins=30, color='darkorange')\n",
    "axs[0, 1].set_title('Early Adaptation', FontSize=14)\n",
    "axs[0, 1].plot([0, 390], [0, 0], 'k-', lw=3,dashes=[2, 2])\n",
    "\n",
    "axs[0, 2].hist(dfClean.TMSteady, orientation='horizontal', bins=30, color='darkorange')\n",
    "axs[0, 2].set_title('Steady State', FontSize=14)\n",
    "axs[0, 2].plot([0, 390], [0, 0], 'k-', lw=3,dashes=[2, 2])\n",
    "\n",
    "axs[0, 3].hist(dfClean.TMAfter, orientation='horizontal', bins=30, color='darkorange')\n",
    "axs[0, 3].set_title('After-Effects', FontSize=14)\n",
    "axs[0, 3].plot([0, 390], [0, 0], 'k-', lw=3,dashes=[2, 2])\n",
    "\n",
    "axs[1, 0].hist(dfClean.OGBase, orientation='horizontal', bins=30, color='darkturquoise')\n",
    "axs[1, 0].set_ylabel('Overground', FontSize=16, color='darkturquoise')\n",
    "axs[1, 0].plot([0, 390], [0, 0], 'k-', lw=3,dashes=[2, 2])\n",
    "\n",
    "axs[1, 3].hist(dfClean.OGAfter, orientation='horizontal', bins=30, color='darkturquoise')\n",
    "axs[1, 3].plot([0, 390], [0, 0], 'k-', lw=3,dashes=[2, 2])\n",
    "\n",
    "plt.savefig('EpochValidation.png', dpi=300, bbox_inches='tight', facecolor='w', transparent=False)    \n",
    "   \n",
    "fig.show()"
   ]
  },
  {
   "cell_type": "markdown",
   "metadata": {},
   "source": [
    "### Discretizeing Age\n",
    "\n",
    "Given that 0.04 is a clinically signfiicant change in step length asymmetry (Patterson et al. 2008) this threshold will be used to descritize subjects with \"successful\" verses \"poor\" locomotor recalibration. Specifically, I am framing this analysis as a classification problem endeavouring to identify those that will have clincially significant gait changes from split-belt adaptation. Thus treadmill After-Effects greater than or equal to 0.04 will indicated \"successful\" locmotor recalibration."
   ]
  },
  {
   "cell_type": "code",
   "execution_count": 9,
   "metadata": {},
   "outputs": [
    {
     "data": {
      "image/png": "[encoded data removed]",
      "text/plain": [
       "<Figure size 720x144 with 2 Axes>"
      ]
     },
     "metadata": {
      "needs_background": "light"
     },
     "output_type": "display_data"
    }
   ],
   "source": [
    "# Threshold from Patterson 2008\n",
    "dfClean[\"TMAfterGood\"]=1*(dfClean[\"TMAfter\"]> 0.04)\n",
    "dfClean[\"TMAfterBad\"]=1*(dfClean[\"TMAfter\"]<= 0.04)\n",
    "InitialVisualization([\"TMAfterGood\", \"TMAfter\"], dfClean)"
   ]
  },
  {
   "cell_type": "code",
   "execution_count": 10,
   "metadata": {},
   "outputs": [
    {
     "data": {
      "image/png": "[encoded data removed]",
      "text/plain": [
       "<Figure size 720x144 with 2 Axes>"
      ]
     },
     "metadata": {
      "needs_background": "light"
     },
     "output_type": "display_data"
    }
   ],
   "source": [
    "# Using median behavior as the threshold\n",
    "MedianTMAfter = dfClean['TMAfter'].median()\n",
    "dfClean[\"TMAfterGood_Median\"]=1*(dfClean[\"TMAfter\"]> MedianTMAfter)\n",
    "dfClean[\"TMAfterBad_Median\"]=1*(dfClean[\"TMAfter\"]<= MedianTMAfter)\n",
    "InitialVisualization([\"TMAfterGood_Median\", \"TMAfterBad_Median\"], dfClean)"
   ]
  },
  {
   "cell_type": "markdown",
   "metadata": {},
   "source": [
    "# Protocol Validation"
   ]
  },
  {
   "cell_type": "markdown",
   "metadata": {},
   "source": [
    "The duration of adaptaiton is measured in minutes or strides. In order to justify these two units, I am **estimating** that people average 50 strides a minute."
   ]
  },
  {
   "cell_type": "code",
   "execution_count": 11,
   "metadata": {},
   "outputs": [],
   "source": [
    "OnlyDurationInMins = dfClean.loc[( (np.isnan(dfClean.AdaptationDuration)==True) & (np.isnan(dfClean.AdaptationDurationMins)==False) ),'AdaptationDuration'].index\n",
    "dfClean.at[OnlyDurationInMins,\"AdaptationDuration\"] = 50 * dfClean.loc[OnlyDurationInMins,'AdaptationDurationMins']"
   ]
  },
  {
   "cell_type": "code",
   "execution_count": 12,
   "metadata": {},
   "outputs": [
    {
     "data": {
      "image/png": "[encoded data removed]",
      "text/plain": [
       "<Figure size 720x288 with 6 Axes>"
      ]
     },
     "metadata": {
      "needs_background": "light"
     },
     "output_type": "display_data"
    }
   ],
   "source": [
    "InitialVisualization([\"SpeedDifference\", \"SpeedRatio\", \"MidSpeed\", 'TMAEFirst', \"Abrupt\", \"AdaptationDuration\"], dfClean)"
   ]
  },
  {
   "cell_type": "code",
   "execution_count": 13,
   "metadata": {},
   "outputs": [
    {
     "data": {
      "image/png": "[encoded data removed]",
      "text/plain": [
       "<Figure size 432x288 with 1 Axes>"
      ]
     },
     "metadata": {
      "needs_background": "light"
     },
     "output_type": "display_data"
    }
   ],
   "source": [
    "# I do not think we are using this for anything\n",
    "dfClean[\"DomFast\"] = 1*(dfClean[\"RightLeg_Dom\"] == dfClean[\"RightLeg_Fast\"])\n",
    "\n",
    "sns.countplot(x=\"DomFast\", data=dfClean)\n",
    "plt.show()"
   ]
  },
  {
   "cell_type": "code",
   "execution_count": 14,
   "metadata": {},
   "outputs": [
    {
     "data": {
      "text/plain": [
       "array([1., 0.])"
      ]
     },
     "execution_count": 14,
     "metadata": {},
     "output_type": "execute_result"
    }
   ],
   "source": [
    "# Shouldn't need to do this anymore because getting rid of places where not the case?\n",
    "WhereToZero = dfClean.loc[(dfClean['TMAEFirst']!=0) & (dfClean['TMAEFirst']!=1),'TMAEFirst'].index\n",
    "dfClean.at[WhereToZero,'TMAEFirst'] = 0\n",
    "dfClean['TMAEFirst'].unique()"
   ]
  },
  {
   "cell_type": "markdown",
   "metadata": {},
   "source": [
    "# Subject Demographics\n"
   ]
  },
  {
   "cell_type": "code",
   "execution_count": 15,
   "metadata": {},
   "outputs": [
    {
     "data": {
      "image/png": "[encoded data removed]",
      "text/plain": [
       "<Figure size 720x288 with 7 Axes>"
      ]
     },
     "metadata": {
      "needs_background": "light"
     },
     "output_type": "display_data"
    }
   ],
   "source": [
    "InitialVisualization([\"BaseSTD\", \"Age\", \"Male\", \"Height\", \"Weight\", 'Clinical', 'Stroke'], dfClean)"
   ]
  },
  {
   "cell_type": "markdown",
   "metadata": {},
   "source": [
    "### Cleaning Height & Weight and Calculating BMI\n",
    "\n",
    "Based on the initial visualization of height and weight it is clear that there are some issues with height and weight.  First, there are missing values, second some values seem to be in the wrong units (recall that height should be in cm and weight should be in kg) or are otherwise not realistic.  The current strategy is to correct units, replace unrealistic values with mean, and then calculate BMI."
   ]
  },
  {
   "cell_type": "code",
   "execution_count": 16,
   "metadata": {},
   "outputs": [],
   "source": [
    "# Clearn Weights\n",
    "\n",
    "# Calculate what the mean resonable height is\n",
    "NormalWeight = dfClean.loc[dfClean[\"Weight\"]>30,'Height'].index\n",
    "NormalWeightMean = dfClean.loc[NormalWeight,'Weight'].mean()\n",
    "\n",
    "# Replace unresonable weights with the mean\n",
    "WrongWeight = dfClean.loc[dfClean[\"Weight\"]<30,'Weight'].index\n",
    "dfClean.at[WrongWeight,'Weight'] = NormalWeightMean\n"
   ]
  },
  {
   "cell_type": "code",
   "execution_count": 17,
   "metadata": {},
   "outputs": [],
   "source": [
    "#Clean Heights\n",
    "\n",
    "# Convert Heights presumed in meters to centimeters for consistency\n",
    "MeterHeight = dfClean.loc[dfClean[\"Height\"]<2,'Height'].index\n",
    "dfClean.at[MeterHeight,'Height'] = 100 * dfClean.loc[dfClean[\"Height\"]<2, \"Height\"]\n",
    "\n",
    "# Calculate what the mean resonable height is\n",
    "NormalHeight = dfClean.loc[dfClean[\"Height\"]>122,'Height'].index\n",
    "NormalHeightMean = dfClean.loc[NormalHeight,'Height'].mean()\n",
    "\n",
    "# Replace unresonable heights with the mean\n",
    "WrongHeight = dfClean.loc[dfClean[\"Height\"]<122,'Height'].index\n",
    "dfClean.at[WrongHeight,'Height'] = NormalHeightMean\n"
   ]
  },
  {
   "cell_type": "code",
   "execution_count": 18,
   "metadata": {},
   "outputs": [],
   "source": [
    "# Fill missing heights and weights \n",
    "dfClean[\"Height\"] = dfClean[\"Height\"].fillna(dfClean[\"Height\"].mean())\n",
    "dfClean[\"Weight\"] = dfClean[\"Weight\"].fillna(dfClean[\"Weight\"].mean())"
   ]
  },
  {
   "cell_type": "code",
   "execution_count": 19,
   "metadata": {},
   "outputs": [
    {
     "data": {
      "image/png": "[encoded data removed]",
      "text/plain": [
       "<Figure size 720x144 with 3 Axes>"
      ]
     },
     "metadata": {
      "needs_background": "light"
     },
     "output_type": "display_data"
    }
   ],
   "source": [
    "# Finally, calculate BMI\n",
    "dfClean[\"BMI\"] = (dfClean[\"Weight\"]/(dfClean[\"Height\"]/100)**2)\n",
    "InitialVisualization([\"Height\", \"Weight\", \"BMI\"], dfClean)"
   ]
  },
  {
   "cell_type": "markdown",
   "metadata": {},
   "source": [
    "### Discretizeing Age"
   ]
  },
  {
   "cell_type": "code",
   "execution_count": 20,
   "metadata": {
    "scrolled": true
   },
   "outputs": [
    {
     "data": {
      "image/png": "[encoded data removed]",
      "text/plain": [
       "<Figure size 720x144 with 2 Axes>"
      ]
     },
     "metadata": {
      "needs_background": "light"
     },
     "output_type": "display_data"
    }
   ],
   "source": [
    "dfClean[\"Young\"]=1*(dfClean[\"Age\"]<40)\n",
    "\n",
    "InitialVisualization([\"Age\", \"Young\"], dfClean)"
   ]
  },
  {
   "cell_type": "markdown",
   "metadata": {},
   "source": [
    "Save Cleaned Data\n",
    "---"
   ]
  },
  {
   "cell_type": "code",
   "execution_count": 21,
   "metadata": {},
   "outputs": [],
   "source": [
    "dfSQL = pd.DataFrame(columns=['entity_id'])\n",
    "dfSQL[\"entity_id\"] = dfClean[\"EntityID\"]\n",
    "\n",
    "dfSQL[\"entity_id\"].isnull().values.any()\n",
    "dfSQL[\"entity_id\"].isnull().sum()\n",
    "MissingEntitiyID_Index = dfSQL[dfSQL[\"entity_id\"].isnull()].index.tolist()\n",
    "\n",
    "for i in range(len(MissingEntitiyID_Index)):\n",
    "    dfSQL.loc[MissingEntitiyID_Index[i], \"entity_id\"] = i+3000\n",
    "    \n",
    "    \n",
    "dfSQL[\"entity_id\"].isnull().values.any()\n",
    "\n",
    "#dfSQL[MissingEntitiyID_Index[i], \"entity_id\"]#\n",
    "dfSQL[\"entity_id\"] = dfSQL[\"entity_id\"].astype(int)"
   ]
  },
  {
   "cell_type": "code",
   "execution_count": 22,
   "metadata": {},
   "outputs": [],
   "source": [
    "dfSQL[\"event_id\"] = range(1, len(dfSQL.index)+1)"
   ]
  },
  {
   "cell_type": "code",
   "execution_count": 23,
   "metadata": {},
   "outputs": [],
   "source": [
    "import datetime\n",
    "import random\n",
    "\n",
    "listDates = [\"01/01/1920\", \"01/01/1919\", \"01/01/1918\", \"01/01/1917\", \"01/01/1916\"]\n",
    "\n",
    "dfSQL[\"date\"] = random.choices(listDates, k=len(dfClean.index))\n",
    "\n",
    "dfSQL[\"date\"]= pd.to_datetime(dfSQL[\"date\"]) "
   ]
  },
  {
   "cell_type": "code",
   "execution_count": 24,
   "metadata": {},
   "outputs": [],
   "source": [
    "dfSQL[\"speed_ratio\"] = dfClean[\"SpeedRatio\"]\n",
    "dfSQL[\"speed_diff\"] = dfClean[\"SpeedDifference\"]\n",
    "dfSQL[\"mid_speed\"] = dfClean[\"MidSpeed\"]\n",
    "dfSQL[\"abrupt\"] = dfClean[\"Abrupt\"]\n",
    "dfSQL[\"base\"] = dfClean[\"TMBase\"]\n",
    "dfSQL[\"duration\"] = dfClean[\"AdaptationDuration\"]\n",
    "dfSQL[\"age\"] = dfClean[\"Age\"]\n",
    "dfSQL[\"young\"] = dfClean[\"Young\"]\n",
    "dfSQL[\"height\"] = dfClean[\"Height\"]\n",
    "dfSQL[\"weight\"] = dfClean[\"Weight\"]\n",
    "dfSQL[\"bmi\"] = dfClean[\"BMI\"]\n",
    "dfSQL[\"catch\"] = dfClean[\"IsCatch\"]\n",
    "dfSQL[\"clinical\"] = dfClean[\"Clinical\"]\n",
    "dfSQL[\"male\"] = dfClean[\"Male\"]\n",
    "dfSQL[\"tmfirst\"] = dfClean['TMAEFirst']\n",
    "dfSQL[\"basestd\"] = dfClean['BaseSTD']\n",
    "dfSQL[\"AE\"] = dfClean[\"TMAfterBad\"]\n",
    "dfSQL[\"AEgood\"] = dfClean[\"TMAfterGood\"]\n",
    "dfSQL[\"AE_Median\"] = dfClean[\"TMAfterBad_Median\"]\n",
    "dfSQL[\"AEgood_Median\"] = dfClean[\"TMAfterGood_Median\"]"
   ]
  },
  {
   "cell_type": "code",
   "execution_count": 25,
   "metadata": {},
   "outputs": [],
   "source": [
    "dfSQL.to_csv('SQLDataBase.csv', index=False)"
   ]
  }
 ],
 "metadata": {
  "kernelspec": {
   "display_name": "Python 3",
   "language": "python",
   "name": "python3"
  },
  "language_info": {
   "codemirror_mode": {
    "name": "ipython",
    "version": 3
   },
   "file_extension": ".py",
   "mimetype": "text/x-python",
   "name": "python",
   "nbconvert_exporter": "python",
   "pygments_lexer": "ipython3",
   "version": "3.6.10"
  }
 },
 "nbformat": 4,
 "nbformat_minor": 4
}
