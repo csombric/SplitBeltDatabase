{
 "cells": [
  {
   "cell_type": "code",
   "execution_count": 1,
   "metadata": {},
   "outputs": [],
   "source": [
    "#!/usr/bin/env python\n",
    "import pandas as pd\n",
    "from jinja2 import Template"
   ]
  },
  {
   "cell_type": "code",
   "execution_count": 2,
   "metadata": {},
   "outputs": [],
   "source": [
    "Model2Run = [\"DT\", \"LR\"]#\n",
    "FeatureNum = [2, 3, 4, 5, 6, 7]\n",
    "Transformed = [0]\n",
    "TargetFeature = ['TMAfterGood']"
   ]
  },
  {
   "cell_type": "code",
   "execution_count": 3,
   "metadata": {},
   "outputs": [],
   "source": [
    "with open(\"template_CJS.slurm\") as f:\n",
    "    template = Template(f.read())"
   ]
  },
  {
   "cell_type": "code",
   "execution_count": 4,
   "metadata": {},
   "outputs": [
    {
     "name": "stdout",
     "output_type": "stream",
     "text": [
      "DT_2Vars_Trans0_TMAfterGood_V7\n",
      "DT_3Vars_Trans0_TMAfterGood_V7\n",
      "DT_4Vars_Trans0_TMAfterGood_V7\n",
      "DT_5Vars_Trans0_TMAfterGood_V7\n",
      "DT_6Vars_Trans0_TMAfterGood_V7\n",
      "DT_7Vars_Trans0_TMAfterGood_V7\n",
      "LR_2Vars_Trans0_TMAfterGood_V7\n",
      "LR_3Vars_Trans0_TMAfterGood_V7\n",
      "LR_4Vars_Trans0_TMAfterGood_V7\n",
      "LR_5Vars_Trans0_TMAfterGood_V7\n",
      "LR_6Vars_Trans0_TMAfterGood_V7\n",
      "LR_7Vars_Trans0_TMAfterGood_V7\n"
     ]
    }
   ],
   "source": [
    "for mdl in Model2Run:\n",
    "    for fn in FeatureNum:\n",
    "        for t in Transformed:\n",
    "            for TarName in TargetFeature:\n",
    "                mjn = mdl + '_' + str(fn) + 'Vars_Trans' + str(t) + '_' + TarName +'_V7'\n",
    "                print(mjn)\n",
    "                rendered = template.render(MyJobName = mjn, model = mdl, var = fn, trans = t, target = TarName)\n",
    "                with open(f\"../{mjn}\", \"w\") as f:\n",
    "                    f.writelines(rendered)"
   ]
  },
  {
   "cell_type": "code",
   "execution_count": 12,
   "metadata": {},
   "outputs": [],
   "source": [
    "cat = pd.DataFrame()\n",
    "cat.to_csv('/ihome/tgelsy/cjs180/Results/cat.csv', index=False)"
   ]
  },
  {
   "cell_type": "code",
   "execution_count": null,
   "metadata": {},
   "outputs": [],
   "source": []
  }
 ],
 "metadata": {
  "kernelspec": {
   "display_name": "Python 3.7",
   "language": "python",
   "name": "python3"
  },
  "language_info": {
   "codemirror_mode": {
    "name": "ipython",
    "version": 3
   },
   "file_extension": ".py",
   "mimetype": "text/x-python",
   "name": "python",
   "nbconvert_exporter": "python",
   "pygments_lexer": "ipython3",
   "version": "3.7.0"
  }
 },
 "nbformat": 4,
 "nbformat_minor": 4
}
