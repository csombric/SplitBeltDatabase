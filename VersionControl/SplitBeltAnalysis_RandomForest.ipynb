{
 "cells": [
  {
   "cell_type": "markdown",
   "metadata": {},
   "source": [
    "Split-Belt Database: Random Forrests\n",
    "---\n",
    "\n",
    "https://towardsdatascience.com/an-implementation-and-explanation-of-the-random-forest-in-python-77bf308a9b76\n",
    "\n",
    "https://github.com/WillKoehrsen/Machine-Learning-Projects/blob/master/Random%20Forest%20Tutorial.ipynb\n",
    "\n",
    "https://github.com/WillKoehrsen/Machine-Learning-Projects/blob/master/random_forest_explained/Random%20Forest%20Explained.ipynb\n",
    "\n",
    "https://towardsdatascience.com/hyperparameter-tuning-the-random-forest-in-python-using-scikit-learn-28d2aa77dd74"
   ]
  },
  {
   "cell_type": "markdown",
   "metadata": {},
   "source": [
    "To explain Decision Tree: https://www.hackerearth.com/practice/machine-learning/machine-learning-algorithms/ml-decision-tree/tutorial/"
   ]
  },
  {
   "cell_type": "code",
   "execution_count": 1,
   "metadata": {
    "scrolled": true
   },
   "outputs": [
    {
     "data": {
      "text/html": [
       "<div>\n",
       "<style>\n",
       "    .dataframe thead tr:only-child th {\n",
       "        text-align: right;\n",
       "    }\n",
       "\n",
       "    .dataframe thead th {\n",
       "        text-align: left;\n",
       "    }\n",
       "\n",
       "    .dataframe tbody tr th {\n",
       "        vertical-align: top;\n",
       "    }\n",
       "</style>\n",
       "<table border=\"1\" class=\"dataframe\">\n",
       "  <thead>\n",
       "    <tr style=\"text-align: right;\">\n",
       "      <th></th>\n",
       "      <th>ID</th>\n",
       "      <th>GroupNum</th>\n",
       "      <th>Height</th>\n",
       "      <th>Weight</th>\n",
       "      <th>Age</th>\n",
       "      <th>Male</th>\n",
       "      <th>RightLeg</th>\n",
       "      <th>AdaptationDuration</th>\n",
       "      <th>Abrupt</th>\n",
       "      <th>MidSpeed</th>\n",
       "      <th>...</th>\n",
       "      <th>TMAfter</th>\n",
       "      <th>OGBase</th>\n",
       "      <th>OGAfter</th>\n",
       "      <th>IsCatch</th>\n",
       "      <th>Stroke</th>\n",
       "      <th>TextSpeedRatio</th>\n",
       "      <th>BMI</th>\n",
       "      <th>Young</th>\n",
       "      <th>TMSteadyGood</th>\n",
       "      <th>TMAfterGood</th>\n",
       "    </tr>\n",
       "  </thead>\n",
       "  <tbody>\n",
       "    <tr>\n",
       "      <th>0</th>\n",
       "      <td>B001</td>\n",
       "      <td>1</td>\n",
       "      <td>160.0</td>\n",
       "      <td>60.9</td>\n",
       "      <td>20.0</td>\n",
       "      <td>0</td>\n",
       "      <td>1</td>\n",
       "      <td>604</td>\n",
       "      <td>1</td>\n",
       "      <td>1100</td>\n",
       "      <td>...</td>\n",
       "      <td>0.34534</td>\n",
       "      <td>-0.159450</td>\n",
       "      <td>-0.159450</td>\n",
       "      <td>1</td>\n",
       "      <td>0</td>\n",
       "      <td>2.0</td>\n",
       "      <td>23.789062</td>\n",
       "      <td>1</td>\n",
       "      <td>1</td>\n",
       "      <td>1</td>\n",
       "    </tr>\n",
       "    <tr>\n",
       "      <th>1</th>\n",
       "      <td>B002</td>\n",
       "      <td>1</td>\n",
       "      <td>183.5</td>\n",
       "      <td>70.5</td>\n",
       "      <td>-1.0</td>\n",
       "      <td>1</td>\n",
       "      <td>1</td>\n",
       "      <td>602</td>\n",
       "      <td>1</td>\n",
       "      <td>1000</td>\n",
       "      <td>...</td>\n",
       "      <td>NaN</td>\n",
       "      <td>-0.042375</td>\n",
       "      <td>-0.042375</td>\n",
       "      <td>1</td>\n",
       "      <td>0</td>\n",
       "      <td>2.0</td>\n",
       "      <td>20.937122</td>\n",
       "      <td>1</td>\n",
       "      <td>1</td>\n",
       "      <td>0</td>\n",
       "    </tr>\n",
       "    <tr>\n",
       "      <th>2</th>\n",
       "      <td>B003</td>\n",
       "      <td>1</td>\n",
       "      <td>174.0</td>\n",
       "      <td>68.0</td>\n",
       "      <td>20.0</td>\n",
       "      <td>0</td>\n",
       "      <td>1</td>\n",
       "      <td>602</td>\n",
       "      <td>1</td>\n",
       "      <td>1100</td>\n",
       "      <td>...</td>\n",
       "      <td>0.13394</td>\n",
       "      <td>0.005824</td>\n",
       "      <td>0.005824</td>\n",
       "      <td>1</td>\n",
       "      <td>0</td>\n",
       "      <td>2.0</td>\n",
       "      <td>22.460034</td>\n",
       "      <td>1</td>\n",
       "      <td>1</td>\n",
       "      <td>1</td>\n",
       "    </tr>\n",
       "    <tr>\n",
       "      <th>3</th>\n",
       "      <td>B004</td>\n",
       "      <td>1</td>\n",
       "      <td>159.0</td>\n",
       "      <td>59.2</td>\n",
       "      <td>20.0</td>\n",
       "      <td>1</td>\n",
       "      <td>1</td>\n",
       "      <td>603</td>\n",
       "      <td>1</td>\n",
       "      <td>1000</td>\n",
       "      <td>...</td>\n",
       "      <td>0.15988</td>\n",
       "      <td>0.057757</td>\n",
       "      <td>0.057757</td>\n",
       "      <td>1</td>\n",
       "      <td>0</td>\n",
       "      <td>2.0</td>\n",
       "      <td>23.416795</td>\n",
       "      <td>1</td>\n",
       "      <td>0</td>\n",
       "      <td>1</td>\n",
       "    </tr>\n",
       "    <tr>\n",
       "      <th>4</th>\n",
       "      <td>BC001</td>\n",
       "      <td>1</td>\n",
       "      <td>160.0</td>\n",
       "      <td>60.9</td>\n",
       "      <td>20.0</td>\n",
       "      <td>0</td>\n",
       "      <td>1</td>\n",
       "      <td>601</td>\n",
       "      <td>1</td>\n",
       "      <td>1100</td>\n",
       "      <td>...</td>\n",
       "      <td>0.12224</td>\n",
       "      <td>-0.029394</td>\n",
       "      <td>-0.029394</td>\n",
       "      <td>1</td>\n",
       "      <td>0</td>\n",
       "      <td>2.0</td>\n",
       "      <td>23.789062</td>\n",
       "      <td>1</td>\n",
       "      <td>1</td>\n",
       "      <td>1</td>\n",
       "    </tr>\n",
       "  </tbody>\n",
       "</table>\n",
       "<p>5 rows × 30 columns</p>\n",
       "</div>"
      ],
      "text/plain": [
       "      ID  GroupNum  Height  Weight   Age  Male  RightLeg  AdaptationDuration  \\\n",
       "0   B001         1   160.0    60.9  20.0     0         1                 604   \n",
       "1   B002         1   183.5    70.5  -1.0     1         1                 602   \n",
       "2   B003         1   174.0    68.0  20.0     0         1                 602   \n",
       "3   B004         1   159.0    59.2  20.0     1         1                 603   \n",
       "4  BC001         1   160.0    60.9  20.0     0         1                 601   \n",
       "\n",
       "   Abrupt  MidSpeed     ...       TMAfter    OGBase   OGAfter  IsCatch  \\\n",
       "0       1      1100     ...       0.34534 -0.159450 -0.159450        1   \n",
       "1       1      1000     ...           NaN -0.042375 -0.042375        1   \n",
       "2       1      1100     ...       0.13394  0.005824  0.005824        1   \n",
       "3       1      1000     ...       0.15988  0.057757  0.057757        1   \n",
       "4       1      1100     ...       0.12224 -0.029394 -0.029394        1   \n",
       "\n",
       "   Stroke  TextSpeedRatio        BMI  Young  TMSteadyGood  TMAfterGood  \n",
       "0       0             2.0  23.789062      1             1            1  \n",
       "1       0             2.0  20.937122      1             1            0  \n",
       "2       0             2.0  22.460034      1             1            1  \n",
       "3       0             2.0  23.416795      1             0            1  \n",
       "4       0             2.0  23.789062      1             1            1  \n",
       "\n",
       "[5 rows x 30 columns]"
      ]
     },
     "execution_count": 1,
     "metadata": {},
     "output_type": "execute_result"
    }
   ],
   "source": [
    "import pandas as pd # Loadind Data\n",
    "import matplotlib.pyplot as plt  # To visualize\n",
    "import numpy as np\n",
    "\n",
    "RSEED=50\n",
    "\n",
    "df = pd.read_csv(\"CleanDataBase.csv\")\n",
    "df.shape\n",
    "df.head()\n",
    "#list(df)"
   ]
  },
  {
   "cell_type": "markdown",
   "metadata": {},
   "source": [
    "Features and Targets\n",
    "---"
   ]
  },
  {
   "cell_type": "code",
   "execution_count": 2,
   "metadata": {
    "collapsed": true
   },
   "outputs": [],
   "source": [
    "# Define Features and Target\n",
    "feature_cols=[\"SpeedRatio\", \"SpeedDifference\",\"MidSpeed\", \"Abrupt\", \"EarlyA\", \"MidBase\", \\\n",
    "               \"AdaptationDuration\", \"Age\", \"Young\", \"Height\", \"Weight\", \"BMI\",\\\n",
    "             'IsCatch', 'Stroke']#, 'BMI', \"Height\", \"Weight\",\n",
    "#feature_cols=[\"SpeedRatio\", \"SpeedDifference\",\"MidSpeed\", \"EarlyA\", \"AdaptationDuration\", 'Young', 'IsCatch', 'Stroke', 'Abrupt']\n",
    "#feature_cols=[\"SpeedDifference\", \"Abrupt\", \"EarlyA\", \"MidBase\", \"Age\", \"Young\"]\n",
    "\n",
    "target_cols=[\"TMSteadyGood\"]\n",
    "#target_cols=[\"TMAfterGood\"]\n",
    "\n",
    "Features=df[feature_cols]\n",
    "Target=df[target_cols]\n"
   ]
  },
  {
   "cell_type": "markdown",
   "metadata": {},
   "source": [
    "Split the Data into Training and Testing Sets\n",
    "---"
   ]
  },
  {
   "cell_type": "code",
   "execution_count": 3,
   "metadata": {
    "collapsed": true
   },
   "outputs": [],
   "source": [
    "# Split data into training and testing set\n",
    "from sklearn.model_selection import train_test_split\n",
    "\n",
    "X_train,X_test,y_train,y_test=train_test_split(Features,Target,test_size=0.2, random_state = RSEED)\n",
    "\n",
    "y_test=y_test.values.ravel()\n",
    "y_train=y_train.values.ravel()"
   ]
  },
  {
   "cell_type": "code",
   "execution_count": 4,
   "metadata": {
    "collapsed": true
   },
   "outputs": [],
   "source": [
    "## Training on young data -- test on young\n",
    "#YoungIntactIndex =  (df.Stroke == 0) # &(df.Age < 40)\n",
    "#OtherIndex =  (df.Stroke == 1) # &(df.Age < 40)\n",
    "\n",
    "#Features = Features.drop(df[OtherIndex].index)\n",
    "#Target = Target.drop(df[OtherIndex].index)\n",
    "\n",
    "#X_train,X_test,y_train,y_test=train_test_split(Features,Target,test_size=0.2, random_state = RSEED)\n",
    "\n",
    "#y_test=y_test.values.ravel()\n",
    "##y_train=y_train.values.ravel()"
   ]
  },
  {
   "cell_type": "code",
   "execution_count": 5,
   "metadata": {
    "collapsed": true
   },
   "outputs": [],
   "source": [
    "## Training on young data -- test on old/stroke\n",
    "\n",
    "#YoungIntactIndex = (df.Age < 40) & (df.Stroke == 0)\n",
    "#OtherIndex = (df.Age >= 40) | (df.Stroke == 1)\n",
    "\n",
    "#X_train = Features.drop(df[OtherIndex].index)\n",
    "#y_train = Target.drop(df[OtherIndex].index)\n",
    "\n",
    "#X_test = Features.drop(df[YoungIntactIndex].index)\n",
    "#y_test = Target.drop(df[YoungIntactIndex].index)\n"
   ]
  },
  {
   "cell_type": "markdown",
   "metadata": {},
   "source": [
    "Random Forest\n",
    "---"
   ]
  },
  {
   "cell_type": "code",
   "execution_count": 6,
   "metadata": {},
   "outputs": [
    {
     "data": {
      "text/plain": [
       "RandomForestClassifier(bootstrap=True, ccp_alpha=0.0, class_weight=None,\n",
       "                       criterion='gini', max_depth=4, max_features='auto',\n",
       "                       max_leaf_nodes=None, max_samples=None,\n",
       "                       min_impurity_decrease=0.0, min_impurity_split=None,\n",
       "                       min_samples_leaf=1, min_samples_split=2,\n",
       "                       min_weight_fraction_leaf=0.0, n_estimators=100,\n",
       "                       n_jobs=None, oob_score=False, random_state=50, verbose=0,\n",
       "                       warm_start=False)"
      ]
     },
     "execution_count": 6,
     "metadata": {},
     "output_type": "execute_result"
    }
   ],
   "source": [
    "from sklearn.ensemble import RandomForestClassifier\n",
    "\n",
    "# Create the model with 100 trees\n",
    "model = RandomForestClassifier(random_state=RSEED, max_depth=4)\n",
    "# Fit on training data\n",
    "model.fit(X_train, y_train)"
   ]
  },
  {
   "cell_type": "markdown",
   "metadata": {},
   "source": [
    "Make Predictions\n",
    "---"
   ]
  },
  {
   "cell_type": "code",
   "execution_count": 7,
   "metadata": {
    "collapsed": true
   },
   "outputs": [],
   "source": [
    "# Actual class predictions\n",
    "rf_predictions = model.predict(X_test)\n",
    "# Probabilities for each class\n",
    "rf_probs = model.predict_proba(X_test)[:, 1]\n",
    "\n",
    "# Training predictions (to demonstrate overfitting)\n",
    "train_rf_predictions = model.predict(X_train)\n",
    "train_rf_probs = model.predict_proba(X_train)[:, 1]\n"
   ]
  },
  {
   "cell_type": "markdown",
   "metadata": {},
   "source": [
    "Confusion Matrix\n",
    "---"
   ]
  },
  {
   "cell_type": "code",
   "execution_count": 8,
   "metadata": {
    "collapsed": true
   },
   "outputs": [],
   "source": [
    "from sklearn.metrics import confusion_matrix\n",
    "import itertools\n",
    "import matplotlib.pyplot as plt  # To visualize\n",
    "\n",
    "def plot_confusion_matrix(cm, classes,\n",
    "                          normalize=False,\n",
    "                          title='Confusion matrix',\n",
    "                          cmap=plt.cm.Oranges):\n",
    "    \"\"\"\n",
    "    This function prints and plots the confusion matrix.\n",
    "    Normalization can be applied by setting `normalize=True`.\n",
    "    Source: http://scikit-learn.org/stable/auto_examples/model_selection/plot_confusion_matrix.html\n",
    "    \"\"\"\n",
    "    if normalize:\n",
    "        cm = cm.astype('float') / cm.sum(axis=1)[:, np.newaxis]\n",
    "        print(\"Normalized confusion matrix\")\n",
    "    else:\n",
    "        print('Confusion matrix, without normalization')\n",
    "    #print(cm)\n",
    "    plt.figure(figsize = (10, 10))\n",
    "    plt.imshow(cm, interpolation='nearest', cmap=cmap)\n",
    "    plt.title(title, size = 24)\n",
    "    plt.colorbar(aspect=4)\n",
    "    tick_marks = np.arange(len(classes))\n",
    "    plt.xticks(tick_marks, classes, rotation=45, size = 14)\n",
    "    plt.yticks(tick_marks, classes, size = 14)\n",
    "\n",
    "    fmt = '.2f' if normalize else 'd'\n",
    "    thresh = cm.max() / 2.\n",
    "    \n",
    "    # Labeling the plot\n",
    "    for i, j in itertools.product(range(cm.shape[0]), range(cm.shape[1])):\n",
    "        plt.text(j, i, format(cm[i, j], fmt), fontsize = 20,\n",
    "                 horizontalalignment=\"center\",\n",
    "                 color=\"white\" if cm[i, j] > thresh else \"black\")\n",
    "        \n",
    "    plt.grid(None)\n",
    "    plt.tight_layout()\n",
    "    plt.ylabel('True label', size = 18)\n",
    "    plt.xlabel('Predicted label', size = 18)\n",
    "    plt.show()"
   ]
  },
  {
   "cell_type": "code",
   "execution_count": 9,
   "metadata": {},
   "outputs": [
    {
     "name": "stdout",
     "output_type": "stream",
     "text": [
      "Confusion matrix, without normalization\n"
     ]
    },
    {
     "data": {
      "image/png": "[encoded data removed]",
      "text/plain": [
       "<matplotlib.figure.Figure at 0x115df7978>"
      ]
     },
     "metadata": {},
     "output_type": "display_data"
    }
   ],
   "source": [
    "cm = confusion_matrix(y_test, rf_predictions)\n",
    "plot_confusion_matrix(cm, classes = ['Poor SS', 'Good SS'],\n",
    "                      title = 'Steady State Confusion Matrix')"
   ]
  },
  {
   "cell_type": "markdown",
   "metadata": {},
   "source": [
    "ROC Curve\n",
    "---"
   ]
  },
  {
   "cell_type": "code",
   "execution_count": 10,
   "metadata": {
    "collapsed": true
   },
   "outputs": [],
   "source": [
    "## Tagen from: https://towardsdatascience.com/an-implementation-and-explanation-of-the-random-forest-in-python-77bf308a9b76\n",
    "\n",
    "from sklearn.metrics import precision_score, recall_score, roc_auc_score, roc_curve\n",
    "import matplotlib.pyplot as plt\n",
    "\n",
    "# Plot formatting\n",
    "plt.style.use('fivethirtyeight')\n",
    "plt.rcParams['font.size'] = 18\n",
    "\n",
    "def evaluate_model(predictions, probs, train_predictions, train_probs, train_labels, test_labels):\n",
    "    \"\"\"Compare machine learning model to baseline performance.\n",
    "    Computes statistics and shows ROC curve.\"\"\"\n",
    "    \n",
    "    baseline = {}\n",
    "    \n",
    "    baseline['recall'] = recall_score(test_labels, \n",
    "                                     [1 for _ in range(len(test_labels))])\n",
    "    baseline['precision'] = precision_score(test_labels, \n",
    "                                      [1 for _ in range(len(test_labels))])\n",
    "    baseline['roc'] = 0.5\n",
    "    \n",
    "    results = {}\n",
    "    \n",
    "    results['recall'] = recall_score(test_labels, predictions)\n",
    "    results['precision'] = precision_score(test_labels, predictions)\n",
    "    results['roc'] = roc_auc_score(test_labels, probs)\n",
    "    \n",
    "    train_results = {}\n",
    "    train_results['recall'] = recall_score(train_labels, train_predictions)\n",
    "    train_results['precision'] = precision_score(train_labels, train_predictions)\n",
    "    train_results['roc'] = roc_auc_score(train_labels, train_probs)\n",
    "    \n",
    "    for metric in ['recall', 'precision', 'roc']:\n",
    "        print(f'{metric.capitalize()} Baseline: {round(baseline[metric], 2)} Test: {round(results[metric], 2)} Train: {round(train_results[metric], 2)}')\n",
    "    \n",
    "    # Calculate false positive rates and true positive rates\n",
    "    base_fpr, base_tpr, _ = roc_curve(test_labels, [1 for _ in range(len(test_labels))])\n",
    "    model_fpr, model_tpr, _ = roc_curve(test_labels, probs)\n",
    "\n",
    "    plt.figure(figsize = (8, 6))\n",
    "    plt.rcParams['font.size'] = 16\n",
    "    \n",
    "    # Plot both curves\n",
    "    plt.plot(base_fpr, base_tpr, 'b', label = 'baseline')\n",
    "    plt.plot(model_fpr, model_tpr, 'r', label = 'model')\n",
    "    plt.legend();\n",
    "    plt.xlabel('False Positive Rate'); \n",
    "    plt.ylabel('True Positive Rate'); plt.title('ROC Curves');\n",
    "    plt.show();"
   ]
  },
  {
   "cell_type": "code",
   "execution_count": 11,
   "metadata": {},
   "outputs": [
    {
     "name": "stdout",
     "output_type": "stream",
     "text": [
      "Recall Baseline: 1.0 Test: 0.7 Train: 0.86\n",
      "Precision Baseline: 0.48 Test: 0.58 Train: 0.76\n",
      "Roc Baseline: 0.5 Test: 0.6 Train: 0.86\n"
     ]
    },
    {
     "data": {
      "image/png": "[encoded data removed]",
      "text/plain": [
       "<matplotlib.figure.Figure at 0x115e11358>"
      ]
     },
     "metadata": {},
     "output_type": "display_data"
    }
   ],
   "source": [
    "from sklearn.metrics import roc_auc_score\n",
    "\n",
    "# Calculate roc auc\n",
    "roc_value = roc_auc_score(y_test, rf_probs)\n",
    "\n",
    "evaluate_model(rf_predictions, rf_probs, train_rf_predictions, train_rf_probs, y_train, y_test)"
   ]
  },
  {
   "cell_type": "markdown",
   "metadata": {},
   "source": [
    "Random Forest Optimization through Random Search\n",
    "---"
   ]
  },
  {
   "cell_type": "code",
   "execution_count": 12,
   "metadata": {},
   "outputs": [
    {
     "name": "stdout",
     "output_type": "stream",
     "text": [
      "Fitting 3 folds for each of 10 candidates, totalling 30 fits\n"
     ]
    },
    {
     "name": "stderr",
     "output_type": "stream",
     "text": [
      "[Parallel(n_jobs=-1)]: Using backend LokyBackend with 4 concurrent workers.\n",
      "[Parallel(n_jobs=-1)]: Done  30 out of  30 | elapsed:    6.8s finished\n"
     ]
    },
    {
     "data": {
      "text/plain": [
       "RandomizedSearchCV(cv=3, error_score=nan,\n",
       "                   estimator=RandomForestClassifier(bootstrap=True,\n",
       "                                                    ccp_alpha=0.0,\n",
       "                                                    class_weight=None,\n",
       "                                                    criterion='gini',\n",
       "                                                    max_depth=None,\n",
       "                                                    max_features='auto',\n",
       "                                                    max_leaf_nodes=None,\n",
       "                                                    max_samples=None,\n",
       "                                                    min_impurity_decrease=0.0,\n",
       "                                                    min_impurity_split=None,\n",
       "                                                    min_samples_leaf=1,\n",
       "                                                    min_samples_split=2,\n",
       "                                                    min_weight_fraction_leaf=0.0,\n",
       "                                                    n_estimators=100,\n",
       "                                                    n_jobs...\n",
       "                                                           11, 12, 12, 12, 12, ...],\n",
       "                                        'min_samples_split': [2, 5, 10],\n",
       "                                        'n_estimators': array([ 10,  13,  17,  21,  25,  29,  33,  37,  41,  44,  48,  52,  56,\n",
       "        60,  64,  68,  72,  75,  79,  83,  87,  91,  95,  99, 103, 106,\n",
       "       110, 114, 118, 122, 126, 130, 134, 137, 141, 145, 149, 153, 157,\n",
       "       161, 165, 168, 172, 176, 180, 184, 188, 192, 196, 200])},\n",
       "                   pre_dispatch='2*n_jobs', random_state=50, refit=True,\n",
       "                   return_train_score=False, scoring='roc_auc', verbose=1)"
      ]
     },
     "execution_count": 12,
     "metadata": {},
     "output_type": "execute_result"
    }
   ],
   "source": [
    "from sklearn.model_selection import RandomizedSearchCV\n",
    "\n",
    "# Hyperparameter grid\n",
    "param_grid = {\n",
    "    'n_estimators': np.linspace(10, 200).astype(int),\n",
    "    'max_depth': [None] + list(np.linspace(3, 20).astype(int)),\n",
    "    'max_features': ['auto', 'sqrt', None] + list(np.arange(0.5, 1, 0.1)),\n",
    "    'max_leaf_nodes': [None] + list(np.linspace(10, 50, 500).astype(int)),\n",
    "    'min_samples_split': [2, 5, 10],\n",
    "    'bootstrap': [True, False]\n",
    "}\n",
    "\n",
    "# Estimator for use in random search\n",
    "estimator = RandomForestClassifier(random_state = RSEED)\n",
    "\n",
    "# Create the random search model\n",
    "rs = RandomizedSearchCV(estimator, param_grid, n_jobs = -1, \n",
    "                        scoring = 'roc_auc', cv = 3, \n",
    "                        n_iter = 10, verbose = 1, random_state=RSEED)\n",
    "\n",
    "# Fit \n",
    "rs.fit(X_train, y_train)"
   ]
  },
  {
   "cell_type": "code",
   "execution_count": 13,
   "metadata": {},
   "outputs": [
    {
     "data": {
      "text/plain": [
       "{'bootstrap': False,\n",
       " 'max_depth': 10,\n",
       " 'max_features': 'auto',\n",
       " 'max_leaf_nodes': 28,\n",
       " 'min_samples_split': 10,\n",
       " 'n_estimators': 87}"
      ]
     },
     "execution_count": 13,
     "metadata": {},
     "output_type": "execute_result"
    }
   ],
   "source": [
    "rs.best_params_"
   ]
  },
  {
   "cell_type": "code",
   "execution_count": 14,
   "metadata": {
    "collapsed": true
   },
   "outputs": [],
   "source": [
    "best_model = rs.best_estimator_\n",
    "\n",
    "train_rf_predictions = best_model.predict(X_train)\n",
    "train_rf_probs = best_model.predict_proba(X_train)[:, 1]\n",
    "\n",
    "rf_predictions = best_model.predict(X_test)\n",
    "rf_probs = best_model.predict_proba(X_test)[:, 1]"
   ]
  },
  {
   "cell_type": "markdown",
   "metadata": {},
   "source": [
    "Optimized Confusion Matrix\n",
    "---"
   ]
  },
  {
   "cell_type": "code",
   "execution_count": 15,
   "metadata": {},
   "outputs": [
    {
     "name": "stdout",
     "output_type": "stream",
     "text": [
      "Confusion matrix, without normalization\n"
     ]
    },
    {
     "data": {
      "image/png": "[encoded data removed]",
      "text/plain": [
       "<matplotlib.figure.Figure at 0x115e91240>"
      ]
     },
     "metadata": {},
     "output_type": "display_data"
    }
   ],
   "source": [
    "cm = confusion_matrix(y_test, rf_predictions)\n",
    "plot_confusion_matrix(cm, classes = ['Poor SS', 'Good SS'],\n",
    "                      title = 'Optimized Steady State Confusion Matrix')"
   ]
  },
  {
   "cell_type": "markdown",
   "metadata": {},
   "source": [
    "OPtimized ROC Curve\n",
    "---"
   ]
  },
  {
   "cell_type": "code",
   "execution_count": 16,
   "metadata": {},
   "outputs": [
    {
     "name": "stdout",
     "output_type": "stream",
     "text": [
      "Recall Baseline: 1.0 Test: 0.72 Train: 0.93\n",
      "Precision Baseline: 0.48 Test: 0.63 Train: 0.88\n",
      "Roc Baseline: 0.5 Test: 0.66 Train: 0.97\n"
     ]
    },
    {
     "data": {
      "image/png": "[encoded data removed]",
      "text/plain": [
       "<matplotlib.figure.Figure at 0x115e91c50>"
      ]
     },
     "metadata": {},
     "output_type": "display_data"
    }
   ],
   "source": [
    "evaluate_model(rf_predictions, rf_probs, train_rf_predictions, train_rf_probs, y_train, y_test)"
   ]
  },
  {
   "cell_type": "markdown",
   "metadata": {},
   "source": [
    "Saving and Visualizing the Tree\n",
    "---"
   ]
  },
  {
   "cell_type": "code",
   "execution_count": 17,
   "metadata": {
    "collapsed": true
   },
   "outputs": [],
   "source": [
    "from sklearn.tree import export_graphviz\n",
    "import pydot\n",
    "\n",
    "estimator = best_model.estimators_[1]\n",
    "\n",
    "export_graphviz(estimator, out_file = 'OptimizedForest.dot', feature_names = feature_cols,\n",
    "                rounded = True, precision = 1, class_names = ['goodAdapt', 'badAdapt'], filled = True)\n",
    "\n",
    "\n",
    "# Use dot file to create a graph\n",
    "(graphy, ) = pydot.graph_from_dot_file('OptimizedForest.dot')\n",
    "\n",
    "# Write graph to a png file\n",
    "graphy.write_png('OptimizedForest.png'); "
   ]
  },
  {
   "cell_type": "markdown",
   "metadata": {},
   "source": [
    "Feature Importance\n",
    "---"
   ]
  },
  {
   "cell_type": "code",
   "execution_count": 18,
   "metadata": {},
   "outputs": [
    {
     "data": {
      "text/html": [
       "<div>\n",
       "<style>\n",
       "    .dataframe thead tr:only-child th {\n",
       "        text-align: right;\n",
       "    }\n",
       "\n",
       "    .dataframe thead th {\n",
       "        text-align: left;\n",
       "    }\n",
       "\n",
       "    .dataframe tbody tr th {\n",
       "        vertical-align: top;\n",
       "    }\n",
       "</style>\n",
       "<table border=\"1\" class=\"dataframe\">\n",
       "  <thead>\n",
       "    <tr style=\"text-align: right;\">\n",
       "      <th></th>\n",
       "      <th>feature</th>\n",
       "      <th>importance</th>\n",
       "    </tr>\n",
       "  </thead>\n",
       "  <tbody>\n",
       "    <tr>\n",
       "      <th>0</th>\n",
       "      <td>SpeedRatio</td>\n",
       "      <td>0.059621</td>\n",
       "    </tr>\n",
       "    <tr>\n",
       "      <th>1</th>\n",
       "      <td>SpeedDifference</td>\n",
       "      <td>0.087293</td>\n",
       "    </tr>\n",
       "    <tr>\n",
       "      <th>2</th>\n",
       "      <td>MidSpeed</td>\n",
       "      <td>0.053827</td>\n",
       "    </tr>\n",
       "    <tr>\n",
       "      <th>3</th>\n",
       "      <td>Abrupt</td>\n",
       "      <td>0.007202</td>\n",
       "    </tr>\n",
       "    <tr>\n",
       "      <th>4</th>\n",
       "      <td>EarlyA</td>\n",
       "      <td>0.163584</td>\n",
       "    </tr>\n",
       "    <tr>\n",
       "      <th>5</th>\n",
       "      <td>MidBase</td>\n",
       "      <td>0.139628</td>\n",
       "    </tr>\n",
       "    <tr>\n",
       "      <th>6</th>\n",
       "      <td>AdaptationDuration</td>\n",
       "      <td>0.108443</td>\n",
       "    </tr>\n",
       "    <tr>\n",
       "      <th>7</th>\n",
       "      <td>Age</td>\n",
       "      <td>0.085370</td>\n",
       "    </tr>\n",
       "    <tr>\n",
       "      <th>8</th>\n",
       "      <td>Young</td>\n",
       "      <td>0.010086</td>\n",
       "    </tr>\n",
       "    <tr>\n",
       "      <th>9</th>\n",
       "      <td>Height</td>\n",
       "      <td>0.108995</td>\n",
       "    </tr>\n",
       "    <tr>\n",
       "      <th>10</th>\n",
       "      <td>Weight</td>\n",
       "      <td>0.085145</td>\n",
       "    </tr>\n",
       "    <tr>\n",
       "      <th>11</th>\n",
       "      <td>BMI</td>\n",
       "      <td>0.082156</td>\n",
       "    </tr>\n",
       "    <tr>\n",
       "      <th>12</th>\n",
       "      <td>IsCatch</td>\n",
       "      <td>0.004486</td>\n",
       "    </tr>\n",
       "    <tr>\n",
       "      <th>13</th>\n",
       "      <td>Stroke</td>\n",
       "      <td>0.004165</td>\n",
       "    </tr>\n",
       "  </tbody>\n",
       "</table>\n",
       "</div>"
      ],
      "text/plain": [
       "               feature  importance\n",
       "0           SpeedRatio    0.059621\n",
       "1      SpeedDifference    0.087293\n",
       "2             MidSpeed    0.053827\n",
       "3               Abrupt    0.007202\n",
       "4               EarlyA    0.163584\n",
       "5              MidBase    0.139628\n",
       "6   AdaptationDuration    0.108443\n",
       "7                  Age    0.085370\n",
       "8                Young    0.010086\n",
       "9               Height    0.108995\n",
       "10              Weight    0.085145\n",
       "11                 BMI    0.082156\n",
       "12             IsCatch    0.004486\n",
       "13              Stroke    0.004165"
      ]
     },
     "execution_count": 18,
     "metadata": {},
     "output_type": "execute_result"
    }
   ],
   "source": [
    "# 1 shot approach\n",
    "import pandas as pd\n",
    "\n",
    "# Extract feature importances\n",
    "fi = pd.DataFrame({'feature': list(X_train),\n",
    "                   'importance': model.feature_importances_})\n",
    "\n",
    "# Display\n",
    "fi"
   ]
  },
  {
   "cell_type": "markdown",
   "metadata": {},
   "source": [
    "Though this changes when you re-run the model the following reatures seem to be the most important:\n",
    "- Early A\n",
    "- MidBase\n",
    "- AdaptationDuration\n",
    "- Height\n",
    "\n",
    "And to a lesser extent:\n",
    "- SpeedDifference\n",
    "- Age"
   ]
  },
  {
   "cell_type": "markdown",
   "metadata": {
    "collapsed": true
   },
   "source": [
    "Quantify Important Interactions\n",
    "---\n",
    "\n",
    "Max number of interactions I am able to access is 3.\n",
    "\n",
    "[ ] https://christophm.github.io/interpretable-ml-book/interaction.html#implementations <br />\n",
    "[ ] https://pypi.org/project/sklearn-gbmi/  <br />\n",
    "[ ] https://github.com/ralphhaygood/sklearn-gbmi/blob/master/example.ipynb <br />\n",
    "[ ] https://blog.macuyiko.com/post/2019/discovering-interaction-effects-in-ensemble-models.html <br />"
   ]
  },
  {
   "cell_type": "code",
   "execution_count": 20,
   "metadata": {},
   "outputs": [
    {
     "data": {
      "text/plain": [
       "GradientBoostingRegressor(alpha=0.9, ccp_alpha=0.0, criterion='friedman_mse',\n",
       "                          init=None, learning_rate=0.1, loss='ls', max_depth=3,\n",
       "                          max_features=None, max_leaf_nodes=None,\n",
       "                          min_impurity_decrease=0.0, min_impurity_split=None,\n",
       "                          min_samples_leaf=1, min_samples_split=2,\n",
       "                          min_weight_fraction_leaf=0.0, n_estimators=100,\n",
       "                          n_iter_no_change=None, presort='deprecated',\n",
       "                          random_state=None, subsample=1.0, tol=0.0001,\n",
       "                          validation_fraction=0.1, verbose=0, warm_start=False)"
      ]
     },
     "execution_count": 20,
     "metadata": {},
     "output_type": "execute_result"
    }
   ],
   "source": [
    "from sklearn_gbmi import *\n",
    "from sklearn.ensemble import GradientBoostingRegressor\n",
    "\n",
    "# import warnings filter\n",
    "from warnings import simplefilter\n",
    "# ignore all future warnings\n",
    "simplefilter(action='ignore', category=FutureWarning)\n",
    "\n",
    "gbr_1 = GradientBoostingRegressor()\n",
    "gbr_1.fit(X_train, y_train)"
   ]
  },
  {
   "cell_type": "code",
   "execution_count": 21,
   "metadata": {},
   "outputs": [
    {
     "data": {
      "text/plain": [
       "{('Abrupt', 'AdaptationDuration'): 1.3402448145319123e-16,\n",
       " ('Abrupt', 'Age'): 2.146870925871649e-16,\n",
       " ('Abrupt', 'BMI'): 1.6788629572731472e-16,\n",
       " ('Abrupt', 'EarlyA'): 1.3524380189668732e-16,\n",
       " ('Abrupt', 'Height'): 2.2370673502163465e-16,\n",
       " ('Abrupt', 'IsCatch'): 2.4563535116416156e-16,\n",
       " ('Abrupt', 'MidBase'): 3.0612631935429923e-16,\n",
       " ('Abrupt', 'Stroke'): 1.0314966585054833e-16,\n",
       " ('Abrupt', 'Weight'): 0.08468499773679533,\n",
       " ('Abrupt', 'Young'): 6.484681045498432e-16,\n",
       " ('AdaptationDuration', 'Age'): 0.20024184588039323,\n",
       " ('AdaptationDuration', 'BMI'): 0.11067619266177127,\n",
       " ('AdaptationDuration', 'Height'): 0.15059638689626878,\n",
       " ('AdaptationDuration', 'IsCatch'): 0.03043226746948996,\n",
       " ('AdaptationDuration', 'Stroke'): 6.563607798332183e-17,\n",
       " ('AdaptationDuration', 'Weight'): 0.10425259575239099,\n",
       " ('AdaptationDuration', 'Young'): 0.044936537323701765,\n",
       " ('Age', 'BMI'): 0.11606450259680567,\n",
       " ('Age', 'Height'): 0.26151441271708836,\n",
       " ('Age', 'IsCatch'): 0.00012622190323461922,\n",
       " ('Age', 'Stroke'): 0.0,\n",
       " ('Age', 'Weight'): 0.18900260626278698,\n",
       " ('Age', 'Young'): 2.2533961440364218e-05,\n",
       " ('BMI', 'IsCatch'): 0.07362915607521507,\n",
       " ('BMI', 'Stroke'): 0.0,\n",
       " ('EarlyA', 'AdaptationDuration'): 0.23521788694359114,\n",
       " ('EarlyA', 'Age'): 0.09917681162708948,\n",
       " ('EarlyA', 'BMI'): 0.14773677676013222,\n",
       " ('EarlyA', 'Height'): 0.22536903361504695,\n",
       " ('EarlyA', 'IsCatch'): 0.00627849232695328,\n",
       " ('EarlyA', 'MidBase'): 0.29167726190763665,\n",
       " ('EarlyA', 'Stroke'): 4.4493551346899785e-18,\n",
       " ('EarlyA', 'Weight'): 0.2277320156420949,\n",
       " ('EarlyA', 'Young'): 0.006965896060293187,\n",
       " ('Height', 'BMI'): 0.04603095852529945,\n",
       " ('Height', 'IsCatch'): 0.09533078286203857,\n",
       " ('Height', 'Stroke'): 0.0,\n",
       " ('Height', 'Weight'): 0.3889945473025645,\n",
       " ('IsCatch', 'Stroke'): 0.0,\n",
       " ('MidBase', 'AdaptationDuration'): 0.20388717316016972,\n",
       " ('MidBase', 'Age'): 0.2542360078660651,\n",
       " ('MidBase', 'BMI'): 0.16158353432365566,\n",
       " ('MidBase', 'Height'): 0.10185807965002129,\n",
       " ('MidBase', 'IsCatch'): 4.569269198781199e-16,\n",
       " ('MidBase', 'Stroke'): 0.0,\n",
       " ('MidBase', 'Weight'): 0.14536603033481935,\n",
       " ('MidBase', 'Young'): 2.5233050123682233e-16,\n",
       " ('MidSpeed', 'Abrupt'): 8.66784306020057e-17,\n",
       " ('MidSpeed', 'AdaptationDuration'): 0.22477301171699263,\n",
       " ('MidSpeed', 'Age'): 0.015004733748548434,\n",
       " ('MidSpeed', 'BMI'): 5.910615818753774e-16,\n",
       " ('MidSpeed', 'EarlyA'): 0.09902304376910577,\n",
       " ('MidSpeed', 'Height'): 0.23869998790539995,\n",
       " ('MidSpeed', 'IsCatch'): 0.009009302814297016,\n",
       " ('MidSpeed', 'MidBase'): 0.09202449187209574,\n",
       " ('MidSpeed', 'Stroke'): 0.0,\n",
       " ('MidSpeed', 'Weight'): 0.048493658428931885,\n",
       " ('MidSpeed', 'Young'): 1.1843561673876003e-16,\n",
       " ('SpeedDifference', 'Abrupt'): 6.712501104282218e-16,\n",
       " ('SpeedDifference', 'AdaptationDuration'): 0.0936891899655031,\n",
       " ('SpeedDifference', 'Age'): 0.10397233304448299,\n",
       " ('SpeedDifference', 'BMI'): 0.06165406718288492,\n",
       " ('SpeedDifference', 'EarlyA'): 0.31907640702419404,\n",
       " ('SpeedDifference', 'Height'): 0.1202616245192442,\n",
       " ('SpeedDifference', 'IsCatch'): 0.0007929724317979307,\n",
       " ('SpeedDifference', 'MidBase'): 0.10002351601664024,\n",
       " ('SpeedDifference', 'MidSpeed'): 0.1691966727188109,\n",
       " ('SpeedDifference', 'Stroke'): 1.3056400998163304e-16,\n",
       " ('SpeedDifference', 'Weight'): 0.14351531731340508,\n",
       " ('SpeedDifference', 'Young'): 4.1773500988911936e-16,\n",
       " ('SpeedRatio', 'Abrupt'): 1.523011963641904e-17,\n",
       " ('SpeedRatio', 'AdaptationDuration'): 0.022643215662738022,\n",
       " ('SpeedRatio', 'Age'): 0.012326153287753168,\n",
       " ('SpeedRatio', 'BMI'): 0.024892397988895434,\n",
       " ('SpeedRatio', 'EarlyA'): 0.051991985462954415,\n",
       " ('SpeedRatio', 'Height'): 0.00907062961952053,\n",
       " ('SpeedRatio', 'IsCatch'): 6.738421684969845e-17,\n",
       " ('SpeedRatio', 'MidBase'): 0.04019845016380918,\n",
       " ('SpeedRatio', 'MidSpeed'): 0.017479761741004417,\n",
       " ('SpeedRatio', 'SpeedDifference'): 0.06190296235680827,\n",
       " ('SpeedRatio', 'Stroke'): 0.0,\n",
       " ('SpeedRatio', 'Weight'): 0.04831736073420607,\n",
       " ('SpeedRatio', 'Young'): 1.934983951898067e-16,\n",
       " ('Weight', 'BMI'): 0.2745582288141577,\n",
       " ('Weight', 'IsCatch'): 1.1542045227863158e-05,\n",
       " ('Weight', 'Stroke'): 3.026988504710187e-17,\n",
       " ('Young', 'BMI'): 0.014218894309236821,\n",
       " ('Young', 'Height'): 0.004937463365008158,\n",
       " ('Young', 'IsCatch'): 3.237747072037818e-16,\n",
       " ('Young', 'Stroke'): 0.0,\n",
       " ('Young', 'Weight'): 0.007659911093721589}"
      ]
     },
     "execution_count": 21,
     "metadata": {},
     "output_type": "execute_result"
    }
   ],
   "source": [
    "# Compute the two-variable H statistic of each pair of predictor variables. \n",
    "h_all_pairs(gbr_1, X_train)"
   ]
  },
  {
   "cell_type": "markdown",
   "metadata": {},
   "source": [
    "Below is a list of the 2-way interactions that are greater than 0.2:\n",
    "\n",
    "- ('AdaptationDuration', 'Age'): 0.20024184588039323, \n",
    "- ('Age', 'Height'): 0.26151441271708836,\n",
    "- ('EarlyA', 'AdaptationDuration'): 0.23521788694359114,\n",
    "- ('EarlyA', 'Height'): 0.22536903361504695,\n",
    "- ('EarlyA', 'MidBase'): 0.29167726190763665,\n",
    "- ('EarlyA', 'Weight'): 0.2277320156420949,\n",
    "- ('Height', 'Weight'): 0.3889945473025645,\n",
    "- ('MidBase', 'AdaptationDuration'): 0.20388717316016972,\n",
    "- ('MidBase', 'Age'): 0.2542360078660651,\n",
    "- ('MidSpeed', 'AdaptationDuration'): 0.22477301171699263,\n",
    "- ('MidSpeed', 'Height'): 0.23869998790539995,\n",
    "- ('Weight', 'BMI'): 0.2745582288141577,\n",
    " "
   ]
  },
  {
   "cell_type": "markdown",
   "metadata": {
    "collapsed": true
   },
   "source": [
    "Three way interactions are the largest interaction that I can quantify with this methodology."
   ]
  },
  {
   "cell_type": "code",
   "execution_count": 23,
   "metadata": {},
   "outputs": [
    {
     "name": "stdout",
     "output_type": "stream",
     "text": [
      "['SpeedDifference', 'EarlyA', 'AdaptationDuration']  -->  0.20153730773769263\n",
      "['MidSpeed', 'Abrupt', 'Young']  -->  0.20580460599119432\n",
      "['Abrupt', 'Young', 'IsCatch']  -->  0.43471740801017683\n",
      "['Young', 'IsCatch', 'Stroke']  -->  0.3314530464860184\n"
     ]
    }
   ],
   "source": [
    "from itertools import combinations\n",
    "\n",
    "FeatureName = list(X_train)\n",
    "Combos = list(combinations(range(len(FeatureName)),3))\n",
    "\n",
    "for x in range(len(Combos)):#len(Combos):\n",
    "    ThreeNames = [FeatureName[Combos[x][0]], FeatureName[Combos[x][1]], FeatureName[Combos[x][2]]]\n",
    "    ThreeFeatures = X_train[ThreeNames]\n",
    "    \n",
    "    gbr_2 = GradientBoostingRegressor()        \n",
    "    gbr_2.fit(ThreeFeatures, y_train)\n",
    "    ThreeInteraction = h(gbr_2, ThreeFeatures)\n",
    "    if ThreeInteraction>0.2:\n",
    "        print(ThreeNames, ' --> ', ThreeInteraction )"
   ]
  },
  {
   "cell_type": "markdown",
   "metadata": {
    "collapsed": true
   },
   "source": [
    "It appears that there are a few important 3-way interactions.  Even though this library does not allow higher order interactions, it seems like the following Features could be interacting in higher order interactions\n",
    "- 'MidSpeed'\n",
    "- 'Abrupt'\n",
    "- 'Young' \n",
    "- 'IsCatch'\n",
    "- 'Stroke'"
   ]
  },
  {
   "cell_type": "markdown",
   "metadata": {},
   "source": [
    "Selected Features to Predict Binary TMSteadyState\n",
    "---\n",
    "\n",
    "Single Features:\n",
    "- Early A\n",
    "- MidBase\n",
    "- AdaptationDuration\n",
    "- Height\n",
    "- SpeedDifference\n",
    "- Age\n",
    "\n",
    "Two-Way Feature Interactions:\n",
    "- ('AdaptationDuration', 'Age')\n",
    "- ('Age', 'Height')\n",
    "- ('EarlyA', 'AdaptationDuration')\n",
    "- ('EarlyA', 'Height')\n",
    "- ('EarlyA', 'MidBase')\n",
    "- ('EarlyA', 'Weight')\n",
    "- ('Height', 'Weight')\n",
    "- ('MidBase', 'AdaptationDuration')\n",
    "- ('MidBase', 'Age')\n",
    "- ('MidSpeed', 'AdaptationDuration')\n",
    "- ('MidSpeed', 'Height')\n",
    "- ('Weight', 'BMI')\n",
    "\n",
    "Three-Way Feature Interactions:\n",
    "- 'SpeedDifference', 'EarlyA', 'AdaptationDuration'\n",
    "- 'MidSpeed', 'Abrupt', 'Young'\n",
    "- 'Abrupt', 'Young', 'IsCatch'\n",
    "- 'Young', 'IsCatch', 'Stroke'"
   ]
  },
  {
   "cell_type": "code",
   "execution_count": null,
   "metadata": {
    "collapsed": true
   },
   "outputs": [],
   "source": []
  }
 ],
 "metadata": {
  "kernelspec": {
   "display_name": "Python 3",
   "language": "python",
   "name": "python3"
  },
  "language_info": {
   "codemirror_mode": {
    "name": "ipython",
    "version": 3
   },
   "file_extension": ".py",
   "mimetype": "text/x-python",
   "name": "python",
   "nbconvert_exporter": "python",
   "pygments_lexer": "ipython3",
   "version": "3.6.2"
  }
 },
 "nbformat": 4,
 "nbformat_minor": 4
}
