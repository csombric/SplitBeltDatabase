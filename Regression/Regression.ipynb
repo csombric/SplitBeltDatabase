{
 "cells": [
  {
   "cell_type": "markdown",
   "metadata": {},
   "source": [
    "Import Data\n",
    "---"
   ]
  },
  {
   "cell_type": "code",
   "execution_count": 1,
   "metadata": {
    "scrolled": true
   },
   "outputs": [
    {
     "data": {
      "text/html": [
       "<div>\n",
       "<style scoped>\n",
       "    .dataframe tbody tr th:only-of-type {\n",
       "        vertical-align: middle;\n",
       "    }\n",
       "\n",
       "    .dataframe tbody tr th {\n",
       "        vertical-align: top;\n",
       "    }\n",
       "\n",
       "    .dataframe thead th {\n",
       "        text-align: right;\n",
       "    }\n",
       "</style>\n",
       "<table border=\"1\" class=\"dataframe\">\n",
       "  <thead>\n",
       "    <tr style=\"text-align: right;\">\n",
       "      <th></th>\n",
       "      <th>Lab</th>\n",
       "      <th>ID</th>\n",
       "      <th>GroupNum</th>\n",
       "      <th>Height</th>\n",
       "      <th>Weight</th>\n",
       "      <th>Age</th>\n",
       "      <th>Male</th>\n",
       "      <th>RightLeg_Dom</th>\n",
       "      <th>RightLeg_Fast</th>\n",
       "      <th>AdaptationDurationMins</th>\n",
       "      <th>...</th>\n",
       "      <th>Stroke</th>\n",
       "      <th>TextSpeedRatio</th>\n",
       "      <th>EventDetection</th>\n",
       "      <th>DomFast</th>\n",
       "      <th>BMI</th>\n",
       "      <th>Young</th>\n",
       "      <th>TMSteadyGood</th>\n",
       "      <th>TMAfterGood</th>\n",
       "      <th>DeltaAda</th>\n",
       "      <th>DeltaAdaGood</th>\n",
       "    </tr>\n",
       "  </thead>\n",
       "  <tbody>\n",
       "    <tr>\n",
       "      <th>0</th>\n",
       "      <td>SML</td>\n",
       "      <td>B001</td>\n",
       "      <td>1.0</td>\n",
       "      <td>160.0</td>\n",
       "      <td>60.9</td>\n",
       "      <td>20.0</td>\n",
       "      <td>0</td>\n",
       "      <td>1</td>\n",
       "      <td>1</td>\n",
       "      <td>NaN</td>\n",
       "      <td>...</td>\n",
       "      <td>0</td>\n",
       "      <td>2.0</td>\n",
       "      <td>NaN</td>\n",
       "      <td>1</td>\n",
       "      <td>23.789062</td>\n",
       "      <td>1</td>\n",
       "      <td>1</td>\n",
       "      <td>1</td>\n",
       "      <td>0.291812</td>\n",
       "      <td>1</td>\n",
       "    </tr>\n",
       "    <tr>\n",
       "      <th>1</th>\n",
       "      <td>SML</td>\n",
       "      <td>B003</td>\n",
       "      <td>1.0</td>\n",
       "      <td>174.0</td>\n",
       "      <td>68.0</td>\n",
       "      <td>20.0</td>\n",
       "      <td>0</td>\n",
       "      <td>1</td>\n",
       "      <td>1</td>\n",
       "      <td>NaN</td>\n",
       "      <td>...</td>\n",
       "      <td>0</td>\n",
       "      <td>2.0</td>\n",
       "      <td>NaN</td>\n",
       "      <td>1</td>\n",
       "      <td>22.460034</td>\n",
       "      <td>1</td>\n",
       "      <td>1</td>\n",
       "      <td>1</td>\n",
       "      <td>0.220894</td>\n",
       "      <td>1</td>\n",
       "    </tr>\n",
       "    <tr>\n",
       "      <th>2</th>\n",
       "      <td>SML</td>\n",
       "      <td>B004</td>\n",
       "      <td>1.0</td>\n",
       "      <td>159.0</td>\n",
       "      <td>59.2</td>\n",
       "      <td>20.0</td>\n",
       "      <td>1</td>\n",
       "      <td>1</td>\n",
       "      <td>1</td>\n",
       "      <td>NaN</td>\n",
       "      <td>...</td>\n",
       "      <td>0</td>\n",
       "      <td>2.0</td>\n",
       "      <td>NaN</td>\n",
       "      <td>1</td>\n",
       "      <td>23.416795</td>\n",
       "      <td>1</td>\n",
       "      <td>0</td>\n",
       "      <td>1</td>\n",
       "      <td>0.198431</td>\n",
       "      <td>1</td>\n",
       "    </tr>\n",
       "    <tr>\n",
       "      <th>3</th>\n",
       "      <td>SML</td>\n",
       "      <td>BC001</td>\n",
       "      <td>1.0</td>\n",
       "      <td>160.0</td>\n",
       "      <td>60.9</td>\n",
       "      <td>20.0</td>\n",
       "      <td>0</td>\n",
       "      <td>1</td>\n",
       "      <td>1</td>\n",
       "      <td>NaN</td>\n",
       "      <td>...</td>\n",
       "      <td>0</td>\n",
       "      <td>2.0</td>\n",
       "      <td>NaN</td>\n",
       "      <td>1</td>\n",
       "      <td>23.789062</td>\n",
       "      <td>1</td>\n",
       "      <td>1</td>\n",
       "      <td>1</td>\n",
       "      <td>0.220999</td>\n",
       "      <td>1</td>\n",
       "    </tr>\n",
       "    <tr>\n",
       "      <th>4</th>\n",
       "      <td>SML</td>\n",
       "      <td>BC004</td>\n",
       "      <td>1.0</td>\n",
       "      <td>165.0</td>\n",
       "      <td>65.0</td>\n",
       "      <td>20.0</td>\n",
       "      <td>1</td>\n",
       "      <td>1</td>\n",
       "      <td>1</td>\n",
       "      <td>NaN</td>\n",
       "      <td>...</td>\n",
       "      <td>0</td>\n",
       "      <td>2.0</td>\n",
       "      <td>NaN</td>\n",
       "      <td>1</td>\n",
       "      <td>23.875115</td>\n",
       "      <td>1</td>\n",
       "      <td>0</td>\n",
       "      <td>1</td>\n",
       "      <td>0.355004</td>\n",
       "      <td>1</td>\n",
       "    </tr>\n",
       "  </tbody>\n",
       "</table>\n",
       "<p>5 rows × 38 columns</p>\n",
       "</div>"
      ],
      "text/plain": [
       "   Lab     ID  GroupNum  Height  Weight   Age  Male  RightLeg_Dom  \\\n",
       "0  SML   B001       1.0   160.0    60.9  20.0     0             1   \n",
       "1  SML   B003       1.0   174.0    68.0  20.0     0             1   \n",
       "2  SML   B004       1.0   159.0    59.2  20.0     1             1   \n",
       "3  SML  BC001       1.0   160.0    60.9  20.0     0             1   \n",
       "4  SML  BC004       1.0   165.0    65.0  20.0     1             1   \n",
       "\n",
       "   RightLeg_Fast  AdaptationDurationMins  ...  Stroke  TextSpeedRatio  \\\n",
       "0              1                     NaN  ...       0             2.0   \n",
       "1              1                     NaN  ...       0             2.0   \n",
       "2              1                     NaN  ...       0             2.0   \n",
       "3              1                     NaN  ...       0             2.0   \n",
       "4              1                     NaN  ...       0             2.0   \n",
       "\n",
       "   EventDetection  DomFast        BMI  Young  TMSteadyGood  TMAfterGood  \\\n",
       "0             NaN        1  23.789062      1             1            1   \n",
       "1             NaN        1  22.460034      1             1            1   \n",
       "2             NaN        1  23.416795      1             0            1   \n",
       "3             NaN        1  23.789062      1             1            1   \n",
       "4             NaN        1  23.875115      1             0            1   \n",
       "\n",
       "   DeltaAda  DeltaAdaGood  \n",
       "0  0.291812             1  \n",
       "1  0.220894             1  \n",
       "2  0.198431             1  \n",
       "3  0.220999             1  \n",
       "4  0.355004             1  \n",
       "\n",
       "[5 rows x 38 columns]"
      ]
     },
     "execution_count": 1,
     "metadata": {},
     "output_type": "execute_result"
    }
   ],
   "source": [
    "import pandas as pd \n",
    "import matplotlib.pyplot as plt \n",
    "import numpy as np\n",
    "\n",
    "df = pd.read_csv(\"CleanDataBase.csv\")\n",
    "df.head()"
   ]
  },
  {
   "cell_type": "code",
   "execution_count": 2,
   "metadata": {},
   "outputs": [
    {
     "data": {
      "text/plain": [
       "(536, 38)"
      ]
     },
     "execution_count": 2,
     "metadata": {},
     "output_type": "execute_result"
    }
   ],
   "source": [
    "df.shape"
   ]
  },
  {
   "cell_type": "code",
   "execution_count": 3,
   "metadata": {
    "collapsed": true
   },
   "outputs": [],
   "source": [
    "# set random seed to increase repeatability\n",
    "import numpy as np\n",
    "RSEED=50\n",
    "np.random.seed(RSEED)"
   ]
  },
  {
   "cell_type": "markdown",
   "metadata": {},
   "source": [
    "Potential Features and Targets\n",
    "---"
   ]
  },
  {
   "cell_type": "code",
   "execution_count": 25,
   "metadata": {
    "collapsed": true
   },
   "outputs": [],
   "source": [
    "from patsy import dmatrices\n",
    "\n",
    "Y, X = dmatrices('TMAfter ~ C(SpeedRatio) + SpeedDifference + MidSpeed+ C(Abrupt) + TMBase + \\\n",
    "               AdaptationDuration + Age + C(Young) + Height + Weight + BMI + C(IsCatch) + C(Stroke)', df, return_type=\"dataframe\")\n",
    "\n",
    "feature_cols = ['C(SpeedRatio)[T.3.0]', 'SpeedDifference', 'MidSpeed', 'C(Abrupt)[T.1]', 'TMBase', \\\n",
    "               'AdaptationDuration', 'Age', 'C(Young)[T.1]', 'Height', 'Weight', 'BMI', 'C(IsCatch)[T.1]', 'C(Stroke)[T.1]']\n",
    "\n",
    "target_cols = [\"TMAfter\"]\n",
    "\n"
   ]
  },
  {
   "cell_type": "markdown",
   "metadata": {},
   "source": [
    "from patsy import dmatrices\n",
    "\n",
    "Y, X = dmatrices('DeltaAda ~ C(SpeedRatio) + SpeedDifference + MidSpeed+ C(Abrupt) + MidBase + \\\n",
    "               AdaptationDuration + Age + C(Young) + Height + Weight + BMI + C(IsCatch) + C(Stroke)', df, return_type=\"dataframe\")\n",
    "\n",
    "feature_cols = ['C(SpeedRatio)[T.3.0]', 'SpeedDifference', 'MidSpeed', 'C(Abrupt)[T.1]', 'MidBase', \\\n",
    "               'AdaptationDuration', 'Age', 'C(Young)[T.1]', 'Height', 'Weight', 'BMI', 'C(IsCatch)[T.1]', 'C(Stroke)[T.1]']\n",
    "\n",
    "target_cols = [\"DeltaAda\"]\n",
    "\n"
   ]
  },
  {
   "cell_type": "code",
   "execution_count": 26,
   "metadata": {
    "collapsed": true
   },
   "outputs": [],
   "source": [
    "df_Interactions = pd.concat([X,Y], axis=1)\n",
    "\n",
    "Features = df_Interactions[feature_cols]\n",
    "Target = df_Interactions[target_cols]"
   ]
  },
  {
   "cell_type": "markdown",
   "metadata": {},
   "source": [
    "Split the Data into Training and Testing Sets\n",
    "---"
   ]
  },
  {
   "cell_type": "code",
   "execution_count": 27,
   "metadata": {
    "collapsed": true
   },
   "outputs": [],
   "source": [
    "# Split data into training and testing set\n",
    "from sklearn.model_selection import train_test_split\n",
    "\n",
    "X_train,X_test,y_train,y_test=train_test_split(Features,Target,test_size=0.2, random_state = RSEED)\n",
    "\n",
    "y_test=y_test.values.ravel()\n",
    "y_train=y_train.values.ravel()"
   ]
  },
  {
   "cell_type": "markdown",
   "metadata": {},
   "source": [
    "Many Regression Algorithms\n",
    "---\n",
    "\n",
    "- Linear Regression/GLM\n",
    "- SVR, GPR\n",
    "- Ensemble Methods\n",
    "- Decision Tree\n",
    "- Nural Networks"
   ]
  },
  {
   "cell_type": "code",
   "execution_count": 32,
   "metadata": {
    "collapsed": true
   },
   "outputs": [],
   "source": [
    "from sklearn.linear_model import LinearRegression, LassoLars, BayesianRidge, ElasticNet, Lars\n",
    "from sklearn.gaussian_process import GaussianProcessRegressor\n",
    "from sklearn.tree import DecisionTreeRegressor\n",
    "from sklearn.ensemble import RandomForestRegressor\n",
    "from sklearn.neural_network import MLPRegressor\n",
    "\n",
    "rmdls = {'LR':  LinearRegression(),\n",
    "        'LLL':   LassoLars(alpha=.1),\n",
    "         'LL':   Lars(),\n",
    "        'LBR':  BayesianRidge(),\n",
    "        'LEN':  ElasticNet(),\n",
    "        'GP':   GaussianProcessRegressor(),\n",
    "        'DT':   DecisionTreeRegressor(max_depth = 5, random_state=0),\n",
    "        'RF':   RandomForestRegressor(max_depth = 5, random_state=0),\n",
    "        'NN':   MLPRegressor(random_state=1, max_iter=500)}\n",
    "\n",
    "#        'LTR':  TweedieRegressor(power=1, alpha=0.5, link='log'),"
   ]
  },
  {
   "cell_type": "code",
   "execution_count": 33,
   "metadata": {
    "collapsed": true
   },
   "outputs": [],
   "source": [
    "sel_rmdls = [ 'LR', 'LLL', 'LBR', 'LEN', 'GP','DT','RF', 'NN']"
   ]
  },
  {
   "cell_type": "code",
   "execution_count": 34,
   "metadata": {},
   "outputs": [
    {
     "name": "stdout",
     "output_type": "stream",
     "text": [
      "LinearRegression(copy_X=True, fit_intercept=True, n_jobs=None, normalize=False)\n",
      "Root Mean Squared Error: 0.19478002521410276\n",
      "Root Mean Squared Error % Mean: 121.11193232436439\n",
      "LassoLars(alpha=0.1, copy_X=True, eps=2.220446049250313e-16, fit_intercept=True,\n",
      "          fit_path=True, max_iter=500, normalize=True, positive=False,\n",
      "          precompute='auto', verbose=False)\n",
      "Root Mean Squared Error: 0.17456907812998798\n",
      "Root Mean Squared Error % Mean: 108.5450027700017\n",
      "BayesianRidge(alpha_1=1e-06, alpha_2=1e-06, alpha_init=None,\n",
      "              compute_score=False, copy_X=True, fit_intercept=True,\n",
      "              lambda_1=1e-06, lambda_2=1e-06, lambda_init=None, n_iter=300,\n",
      "              normalize=False, tol=0.001, verbose=False)\n",
      "Root Mean Squared Error: 0.17583714110560789\n",
      "Root Mean Squared Error % Mean: 109.33346943704056\n",
      "ElasticNet(alpha=1.0, copy_X=True, fit_intercept=True, l1_ratio=0.5,\n",
      "           max_iter=1000, normalize=False, positive=False, precompute=False,\n",
      "           random_state=None, selection='cyclic', tol=0.0001, warm_start=False)\n",
      "Root Mean Squared Error: 0.17745088189898436\n",
      "Root Mean Squared Error % Mean: 110.3368745117737\n",
      "GaussianProcessRegressor(alpha=1e-10, copy_X_train=True, kernel=None,\n",
      "                         n_restarts_optimizer=0, normalize_y=False,\n",
      "                         optimizer='fmin_l_bfgs_b', random_state=None)\n",
      "Root Mean Squared Error: 0.2354442279163399\n",
      "Root Mean Squared Error % Mean: 146.396456034042\n",
      "DecisionTreeRegressor(ccp_alpha=0.0, criterion='mse', max_depth=5,\n",
      "                      max_features=None, max_leaf_nodes=None,\n",
      "                      min_impurity_decrease=0.0, min_impurity_split=None,\n",
      "                      min_samples_leaf=1, min_samples_split=2,\n",
      "                      min_weight_fraction_leaf=0.0, presort='deprecated',\n",
      "                      random_state=0, splitter='best')\n",
      "Root Mean Squared Error: 0.1468000170156493\n",
      "Root Mean Squared Error % Mean: 91.27852666859384\n",
      "RandomForestRegressor(bootstrap=True, ccp_alpha=0.0, criterion='mse',\n",
      "                      max_depth=5, max_features='auto', max_leaf_nodes=None,\n",
      "                      max_samples=None, min_impurity_decrease=0.0,\n",
      "                      min_impurity_split=None, min_samples_leaf=1,\n",
      "                      min_samples_split=2, min_weight_fraction_leaf=0.0,\n",
      "                      n_estimators=100, n_jobs=None, oob_score=False,\n",
      "                      random_state=0, verbose=0, warm_start=False)\n",
      "Root Mean Squared Error: 0.1319238788037355\n",
      "Root Mean Squared Error % Mean: 82.02871862288286\n",
      "MLPRegressor(activation='relu', alpha=0.0001, batch_size='auto', beta_1=0.9,\n",
      "             beta_2=0.999, early_stopping=False, epsilon=1e-08,\n",
      "             hidden_layer_sizes=(100,), learning_rate='constant',\n",
      "             learning_rate_init=0.001, max_fun=15000, max_iter=500,\n",
      "             momentum=0.9, n_iter_no_change=10, nesterovs_momentum=True,\n",
      "             power_t=0.5, random_state=1, shuffle=True, solver='adam',\n",
      "             tol=0.0001, validation_fraction=0.1, verbose=False,\n",
      "             warm_start=False)\n",
      "Root Mean Squared Error: 0.6544472498858672\n",
      "Root Mean Squared Error % Mean: 406.92761463050033\n"
     ]
    },
    {
     "data": {
      "image/png": "[encoded data removed]",
      "text/plain": [
       "<Figure size 432x288 with 1 Axes>"
      ]
     },
     "metadata": {},
     "output_type": "display_data"
    }
   ],
   "source": [
    "import numpy as np\n",
    "from sklearn import metrics\n",
    "\n",
    "RMSE = {}\n",
    "\n",
    "for rmdlNM in sel_rmdls:\n",
    "    rmdl = rmdls[rmdlNM]\n",
    "    print(rmdl)\n",
    "    rmdl.fit( X_train, y_train )\n",
    "    predicted  = rmdl.predict(X_test)\n",
    "    expected = np.array(y_test)\n",
    "    \n",
    "    #print('Mean Absolute Error:', metrics.mean_absolute_error(expected, predicted))  \n",
    "    #print('Mean Squared Error:', metrics.mean_squared_error(expected, predicted))  \n",
    "    print('Root Mean Squared Error:', np.sqrt(metrics.mean_squared_error(expected, predicted)))\n",
    "    print('Root Mean Squared Error % Mean:', 100*(np.sqrt(metrics.mean_squared_error(expected, predicted))/np.mean(expected)))\n",
    "\n",
    "    RMSE[rmdlNM] = np.sqrt(metrics.mean_squared_error(expected, predicted))\n",
    "\n",
    "plt.bar(range(len(RMSE)), list(RMSE.values()), align='center')\n",
    "plt.xticks(range(len(RMSE)), list(RMSE.keys()))\n",
    "plt.plot([0-.5, len(RMSE)-.5], [np.mean(expected), np.mean(expected)], linestyle=':', color='black', linewidth=3)\n",
    "plt.title('RMSE relative to mean target (dotted line)')\n",
    "plt.show()"
   ]
  },
  {
   "cell_type": "markdown",
   "metadata": {},
   "source": [
    "Summary\n",
    "---\n",
    "\n",
    "In summary, regression models are not able to predict gait training sucuess very well."
   ]
  },
  {
   "cell_type": "code",
   "execution_count": null,
   "metadata": {
    "collapsed": true
   },
   "outputs": [],
   "source": []
  }
 ],
 "metadata": {
  "kernelspec": {
   "display_name": "Python 3",
   "language": "python",
   "name": "python3"
  },
  "language_info": {
   "codemirror_mode": {
    "name": "ipython",
    "version": 3
   },
   "file_extension": ".py",
   "mimetype": "text/x-python",
   "name": "python",
   "nbconvert_exporter": "python",
   "pygments_lexer": "ipython3",
   "version": "3.6.2"
  }
 },
 "nbformat": 4,
 "nbformat_minor": 2
}
